{
  "nbformat": 4,
  "nbformat_minor": 0,
  "metadata": {
    "colab": {
      "provenance": [],
      "authorship_tag": "ABX9TyPgTi+mgE3bZ31TrpkSvLVn",
      "include_colab_link": true
    },
    "kernelspec": {
      "name": "python3",
      "display_name": "Python 3"
    },
    "language_info": {
      "name": "python"
    }
  },
  "cells": [
    {
      "cell_type": "markdown",
      "metadata": {
        "id": "view-in-github",
        "colab_type": "text"
      },
      "source": [
        "<a href=\"https://colab.research.google.com/github/gayatri-p/cs142-lab/blob/main/assignments/assignment_3.ipynb\" target=\"_parent\"><img src=\"https://colab.research.google.com/assets/colab-badge.svg\" alt=\"Open In Colab\"/></a>"
      ]
    },
    {
      "cell_type": "markdown",
      "source": [
        "# **Assignment 3**\n",
        "\n",
        "---\n",
        "\n",
        "#### *Divide and Conquer Algorithm, Merge sort and Median finding*\n"
      ],
      "metadata": {
        "id": "I1eD0GaA2YWv"
      }
    },
    {
      "cell_type": "markdown",
      "source": [
        "**Problem 1:** Solve the first problem of the second assignment (evaluation of a well-defined expression) using a divide and conquer approach. Try to analyze the time complexity of your program."
      ],
      "metadata": {
        "id": "hgJiH5SBT5JE"
      }
    },
    {
      "cell_type": "code",
      "source": [
        "def evaluate(expr):\n",
        "  # base case\n",
        "  if len(expr) == 1:\n",
        "    return expr[0]\n",
        "\n",
        "  o, c = 0, 0\n",
        "  j = 1 # skip the first '('\n",
        "  while j < len(expr) - 1:\n",
        "    if expr[j] == '(': \n",
        "      o += 1\n",
        "    elif expr[j] == ')':\n",
        "      c += 1\n",
        "    \n",
        "    # if no. of '(' = no. of ')', we have a unit of expression\n",
        "    if o == c:\n",
        "      left = evaluate(expr[1: j+1])\n",
        "      right = evaluate(expr[j+2: -1])\n",
        "\n",
        "      if expr[j+1] == '+':\n",
        "        res = left + right\n",
        "      else:\n",
        "        res = left - right\n",
        "\n",
        "      return res\n",
        "\n",
        "    j += 1\n",
        "\n",
        "expression = '((3+2)-((1-2)+5))' # = 1\n",
        "expr = [int(i) if i.isdigit() else i for i in expression ]\n",
        "print(evaluate(expr))"
      ],
      "metadata": {
        "colab": {
          "base_uri": "https://localhost:8080/"
        },
        "id": "UghTrT_z2cWL",
        "outputId": "43832107-85a0-424a-d605-04c814c69138"
      },
      "execution_count": null,
      "outputs": [
        {
          "output_type": "stream",
          "name": "stdout",
          "text": [
            "1\n"
          ]
        }
      ]
    },
    {
      "cell_type": "markdown",
      "source": [
        "**Problem 2.** Given a list $L$, an *inversion* is a pair $(i, j)$ such that $i < j$ but $L[i] > L[j]$. Implement merge sort and modify the code to count the number of inversions of a given list in $O(n \\log n)$ time."
      ],
      "metadata": {
        "id": "dj162l9NE7NG"
      }
    },
    {
      "cell_type": "code",
      "source": [
        "inversions = 0\n",
        "\n",
        "def merge_sort(lst):\n",
        "  if len(lst) == 1:\n",
        "    return lst\n",
        "\n",
        "  mid = len(lst)//2\n",
        "  left = merge_sort(lst[:mid])\n",
        "  right = merge_sort(lst[mid:])\n",
        "\n",
        "  return merge(left, right)\n",
        "\n",
        "def merge(left, right):\n",
        "  global inversions\n",
        "  lst = []\n",
        "\n",
        "  while left and right:\n",
        "    if left[0] < right[0]:\n",
        "      lst.append(left[0])\n",
        "\n",
        "      del left[0]\n",
        "      \n",
        "    else:\n",
        "      lst.append(right[0])\n",
        "      inversions += len(left)\n",
        "\n",
        "      del right[0]\n",
        "\n",
        "  if right:\n",
        "    lst += right\n",
        "  elif left:\n",
        "    lst += left\n",
        "\n",
        "  return lst\n",
        "\n",
        "lst = [8, 4, 2, 1]\n",
        "merge_sort(lst)\n",
        "print('Number of inversions:', inversions)"
      ],
      "metadata": {
        "colab": {
          "base_uri": "https://localhost:8080/"
        },
        "id": "-67iGQmo2my8",
        "outputId": "d531f0a4-aed3-49fe-b19f-aab155f25b67"
      },
      "execution_count": null,
      "outputs": [
        {
          "output_type": "stream",
          "name": "stdout",
          "text": [
            "Number of inversions: 6\n"
          ]
        }
      ]
    },
    {
      "cell_type": "markdown",
      "source": [
        "**Problem 3.** Insertion sort is an $O(n^2)$ algorithm where the number of comparisons and the number of swaps are $O(n^2)$. Modify the insertion sort algorithm to improve the number of comparisons to $O(n \\log n)$."
      ],
      "metadata": {
        "id": "O32FWjVeFHMG"
      }
    },
    {
      "cell_type": "code",
      "source": [
        "def compare(lst, n):\n",
        "  # base case\n",
        "  if len(lst) == 1:\n",
        "    if lst[0] <  n:\n",
        "        lst.insert(1,n)\n",
        "        return lst\n",
        "    else:\n",
        "      lst.insert(0,n) \n",
        "      return lst\n",
        "\n",
        "  # sorting n in lst using binary search\n",
        "  mid = len(lst)//2\n",
        "  left = lst[:mid]\n",
        "  right = lst[mid:]\n",
        "  if right[0] > n:\n",
        "    return compare(left,n) + right\n",
        "  else:\n",
        "    return left + compare(right, n) \n",
        "\n",
        "def insertion_sort(lst):\n",
        "  for i in range(1, len(lst)):\n",
        "    current = lst[i]\n",
        "    sorted = lst[:i] # already sorted part\n",
        "\n",
        "    # new list = sort current in prev list + rest of the list\n",
        "    lst = compare(sorted,current) + lst[i+1:]\n",
        "\n",
        "  return lst\n",
        "\n",
        "list1 = [31, 12, 21, 55, 14, 1, 51, 30, 2, 7]\n",
        "print(insertion_sort(list1))"
      ],
      "metadata": {
        "colab": {
          "base_uri": "https://localhost:8080/"
        },
        "id": "5bGYIYsUJexO",
        "outputId": "4d8e4abc-0440-4c46-a924-0db8c0fb016f"
      },
      "execution_count": null,
      "outputs": [
        {
          "output_type": "stream",
          "name": "stdout",
          "text": [
            "[1, 2, 7, 12, 14, 21, 30, 31, 51, 55]\n"
          ]
        }
      ]
    },
    {
      "cell_type": "markdown",
      "source": [
        "**Problem 4.** Given a couple of sorted lists list1 and list2 one of length n and the other of length n, find the median of the elements occuring in these two sorted lists in O(log n) using the divide and conquer approach.\n",
        "\n",
        "**Input:** list1=[3, 5, 6, 7, 9], list2=[5, 8, 9, 11, 23]\n",
        "\n",
        "**Output:** 7 and 8\n",
        "\n"
      ],
      "metadata": {
        "id": "31r70wsdOJ7R"
      }
    },
    {
      "cell_type": "code",
      "source": [
        "def median(l1, l2):\n",
        "  # stop condition\n",
        "  if len(l1) == 2:\n",
        "    return f'{max(l1[0], l2[0])} and {min(l1[1], l2[1])}'\n",
        "\n",
        "  mid1 = len(l1) // 2\n",
        "  mid2 = len(l2) // 2 + len(l1) % 2 - 1\n",
        "\n",
        "  # if the middle elemets are equal \n",
        "  # then they have to be the median\n",
        "  if l1[mid1] == l2[mid2]:\n",
        "    return f'{l1[mid1]} and {l2[mid1]}'\n",
        "\n",
        "  # otherwise use divide and conquer approach\n",
        "  elif l1[mid1] < l2[mid2]:\n",
        "    return median(l1[mid1:], l2[:mid2+1])\n",
        "  else:\n",
        "    return median(l1[:mid1+1], l2[mid2:])\n",
        "  \n",
        "list1=[3, 5, 6, 7, 9]\n",
        "list2=[5, 8, 9, 11, 23]\n",
        "print(median(list1, list2))"
      ],
      "metadata": {
        "colab": {
          "base_uri": "https://localhost:8080/"
        },
        "id": "lnwCo__D3_GU",
        "outputId": "f30fe07e-7956-4ef7-f1c7-ffaa6f36fd80"
      },
      "execution_count": null,
      "outputs": [
        {
          "output_type": "stream",
          "name": "stdout",
          "text": [
            "7 and 8\n"
          ]
        }
      ]
    }
  ]
}