{
  "nbformat": 4,
  "nbformat_minor": 0,
  "metadata": {
    "colab": {
      "provenance": [],
      "authorship_tag": "ABX9TyObu4fsi7O2CO0l7HckLs+J",
      "include_colab_link": true
    },
    "kernelspec": {
      "name": "python3",
      "display_name": "Python 3"
    },
    "language_info": {
      "name": "python"
    }
  },
  "cells": [
    {
      "cell_type": "markdown",
      "metadata": {
        "id": "view-in-github",
        "colab_type": "text"
      },
      "source": [
        "<a href=\"https://colab.research.google.com/github/gayatri-p/cs142-lab/blob/main/assignments/assignment_7.ipynb\" target=\"_parent\"><img src=\"https://colab.research.google.com/assets/colab-badge.svg\" alt=\"Open In Colab\"/></a>"
      ]
    },
    {
      "cell_type": "markdown",
      "source": [
        "## **Assignment 7**\n",
        "\n",
        "---\n",
        "\n",
        "#### *Linked lists (including palindrome check, insertion and merge sort)*"
      ],
      "metadata": {
        "id": "yggBS1wF38XI"
      }
    },
    {
      "cell_type": "code",
      "source": [
        "class Node:\n",
        "  '''\n",
        "  global class\n",
        "  '''\n",
        "  def __init__(self, alpha, num):\n",
        "    self.alpha = alpha\n",
        "    self.num = num\n",
        "    self.next = None"
      ],
      "metadata": {
        "id": "gprQIHxdze3M"
      },
      "execution_count": null,
      "outputs": []
    },
    {
      "cell_type": "markdown",
      "source": [
        "**Problem 1.** Create a singly linked list with insert and delete operations at the beginning and at the end where each node contains an alphabet and a number as data."
      ],
      "metadata": {
        "id": "kKIn1CKw4Ecy"
      }
    },
    {
      "cell_type": "code",
      "source": [
        "class LinkedList:\n",
        "  def __init__(self):\n",
        "    self.head = None\n",
        "\n",
        "  def print_list(self):\n",
        "    node = self.head\n",
        "    while node:\n",
        "      print(f'({node.alpha}, {node.num}) ->', end=' ')\n",
        "      node = node.next\n",
        "    print(None)\n",
        "\n",
        "  def insert_at_start(self, alpha, num):\n",
        "    node = Node(alpha, num)\n",
        "    address = self.head\n",
        "    self.head = node\n",
        "    node.next = address\n",
        "  \n",
        "  def insert_at_end(self, alpha, num):\n",
        "    node = Node(alpha, num)\n",
        "    temp = self.head\n",
        "    if not temp:\n",
        "      self.head = node\n",
        "\n",
        "    while temp:\n",
        "      if temp.next is None:\n",
        "        temp.next = node\n",
        "        node.next = None\n",
        "      temp = temp.next\n",
        "\n",
        "  def delete_at_start(self):\n",
        "    next = self.head.next\n",
        "    self.head = next\n",
        "\n",
        "  def delete_at_end(self):\n",
        "    node = self.head\n",
        "    while node.next.next:\n",
        "      node = node.next\n",
        "    node.next = None\n",
        "    \n",
        "# example runtime\n",
        "if __name__ == '__main__':\n",
        "  chain = LinkedList()\n",
        "  chain.insert_at_start('a', 4)\n",
        "  chain.insert_at_start('b', 2)\n",
        "  chain.insert_at_end('c', 6)\n",
        "  chain.print_list()\n",
        "  chain.delete_at_end()\n",
        "  chain.print_list()"
      ],
      "metadata": {
        "colab": {
          "base_uri": "https://localhost:8080/"
        },
        "id": "hSnX4mQn7ytF",
        "outputId": "9644dc36-e6db-4e29-fd28-95b9d6da3eff"
      },
      "execution_count": null,
      "outputs": [
        {
          "output_type": "stream",
          "name": "stdout",
          "text": [
            "(b, 2) -> (a, 4) -> (c, 6) -> None\n",
            "(b, 2) -> (a, 4) -> None\n"
          ]
        }
      ]
    },
    {
      "cell_type": "markdown",
      "source": [
        "**Problem 2.** Check if the alphabets in the linked list from left to right induce a palindrome or not in $O(n)$ time where n is the length of the linked list."
      ],
      "metadata": {
        "id": "fkNOcdFp44HC"
      }
    },
    {
      "cell_type": "code",
      "source": [
        "'''\n",
        "Without using an auxiliary list\n",
        "'''\n",
        "\n",
        "class LinkedList:\n",
        "  def __init__(self):\n",
        "    self.head = None\n",
        "\n",
        "  def print_list(self):\n",
        "    node = self.head\n",
        "    while node:\n",
        "      print(f'({node.alpha}, {node.num}) ->', end=' ')\n",
        "      node = node.next\n",
        "    print(None)\n",
        "\n",
        "  def insert_at_start(self, alpha, num):\n",
        "    node = Node(alpha, num)\n",
        "    address = self.head\n",
        "    self.head = node\n",
        "    node.next = address\n",
        "  \n",
        "  def reverse(self, head):\n",
        "    '''\n",
        "    reverse list from a given node and return the new head\n",
        "    '''\n",
        "    current = head\n",
        "    prev = None\n",
        "\n",
        "    while current:\n",
        "      next = current.next\n",
        "      current.next = prev\n",
        "\n",
        "      prev = current\n",
        "      current = next\n",
        "\n",
        "    head = prev\n",
        "    return head\n",
        "\n",
        "  def compare(self, head1, head2):\n",
        "    '''\n",
        "    compare alpha values of two lists one by one\n",
        "    '''\n",
        "    while head1 and head2:\n",
        "      if head1.alpha == head2.alpha:\n",
        "        head1, head2 = head1.next, head2.next\n",
        "      else:\n",
        "        return False\n",
        "\n",
        "    if head1 or head2:\n",
        "      return False\n",
        "\n",
        "    return True\n",
        "\n",
        "  def is_palindrome(self):\n",
        "    '''\n",
        "    method to see if the list is a palindrome\n",
        "    '''\n",
        "    head = self.head\n",
        "\n",
        "    slow_node = head # skips by 1\n",
        "    fast_node = head # skips by 2\n",
        "    prev_slow = head\n",
        "\n",
        "    mid_node = None\n",
        "\n",
        "    if head and head.next:\n",
        "\n",
        "      while fast_node and fast_node.next:\n",
        "        fast_node = fast_node.next.next\n",
        "        prev_slow = slow_node\n",
        "        slow_node = slow_node.next\n",
        "\n",
        "      if fast_node: # to take care of odd cases\n",
        "        mid = slow_node\n",
        "        slow_node = slow_node.next\n",
        "        \n",
        "      reverse_point = slow_node\n",
        "\n",
        "      prev_slow.next = None # terminate first half\n",
        "      second_list_head = self.reverse(reverse_point)\n",
        "      output = self.compare(head, second_list_head)\n",
        "\n",
        "      # reconstruct original list\n",
        "      remaining_list = self.reverse(second_list_head) #re-reverse\n",
        "\n",
        "      if mid_node:\n",
        "        prev_slow.next = mid_node\n",
        "        mid_node.next = remaining_list\n",
        "      else:\n",
        "        prev_slow.next = remaining_list\n",
        "\n",
        "      return output\n",
        "  \n",
        "# example runtime\n",
        "if __name__ == '__main__':\n",
        "  chain = LinkedList()\n",
        "  word = 'radar'\n",
        "  for letter in word:\n",
        "    chain.insert_at_start(letter, 42)\n",
        "\n",
        "  chain.print_list()\n",
        "  \n",
        "  if chain.is_palindrome():\n",
        "    print('The linked list is a palindrome.')\n",
        "  else:\n",
        "    print('The linked list is not a palindrome,')"
      ],
      "metadata": {
        "colab": {
          "base_uri": "https://localhost:8080/"
        },
        "id": "68fM-9dhVtRz",
        "outputId": "a4876944-6d6f-4fe0-f334-35758ae510f6"
      },
      "execution_count": null,
      "outputs": [
        {
          "output_type": "stream",
          "name": "stdout",
          "text": [
            "(r, 42) -> (a, 42) -> (d, 42) -> (a, 42) -> (r, 42) -> None\n",
            "The linked list is a palindrome.\n"
          ]
        }
      ]
    },
    {
      "cell_type": "code",
      "source": [
        "'''\n",
        "Using an auxiliary list\n",
        "'''\n",
        "\n",
        "def is_palindrome(chain):\n",
        "  head = chain.head\n",
        "\n",
        "  elements = []\n",
        "  node = head\n",
        "  while node:\n",
        "    elements.append(node.alpha)\n",
        "    node = node.next\n",
        "  \n",
        "  while head:\n",
        "    i = elements.pop()\n",
        "    if head.alpha != i:\n",
        "      return False\n",
        "    \n",
        "    head = head.next\n",
        "\n",
        "  return True\n",
        "\n",
        "# example runtime\n",
        "if __name__ == '__main__':\n",
        "  chain = LinkedList()\n",
        "  word = 'radar'\n",
        "\n",
        "  for letter in word:\n",
        "    chain.insert_at_end(letter, 42)\n",
        "\n",
        "  chain.print_list()\n",
        "  if is_palindrome(chain):\n",
        "      print('The linked list is a palindrome.')\n",
        "  else:\n",
        "    print('The linked list is not a palindrome,')"
      ],
      "metadata": {
        "colab": {
          "base_uri": "https://localhost:8080/"
        },
        "id": "EqxnpiEF70Ij",
        "outputId": "e8df481f-e27d-4eb8-c96e-3b4166735a9d"
      },
      "execution_count": null,
      "outputs": [
        {
          "output_type": "stream",
          "name": "stdout",
          "text": [
            "(r, 42) -> (a, 42) -> (d, 42) -> (a, 42) -> (r, 42) -> None\n",
            "The linked list is a palindrome.\n"
          ]
        }
      ]
    },
    {
      "cell_type": "markdown",
      "source": [
        "**Problem 3.** Rearrange the nodes (links between them) to sort the linked list (based on the number data) using\n",
        "\n",
        "### *(a) insertion sort sort algorithm*"
      ],
      "metadata": {
        "id": "Q5arsxc955Kp"
      }
    },
    {
      "cell_type": "code",
      "source": [
        "class LinkedList:\n",
        "  def __init__(self):\n",
        "    self.head = None\n",
        "\n",
        "  def print_list(self):\n",
        "    node = self.head\n",
        "    while node:\n",
        "      print(f'({node.alpha}, {node.num}) ->', end=' ')\n",
        "      node = node.next\n",
        "    print(None)\n",
        "  \n",
        "  def insert_at_end(self, alpha, num):\n",
        "    node = Node(alpha, num)\n",
        "    temp = self.head\n",
        "    if not temp:\n",
        "      self.head = node\n",
        "\n",
        "    while temp:\n",
        "      if temp.next is None:\n",
        "        temp.next = node\n",
        "        node.next = None\n",
        "      temp = temp.next\n",
        "\n",
        "  def insert_into_sorted_list(self, sorted, node):\n",
        "    '''\n",
        "    insert an element at the correct position in a sorted list\n",
        "    '''\n",
        "    head = sorted.head\n",
        "\n",
        "    if not head: # empty list\n",
        "      sorted.insert_at_end(node.alpha, node.num)\n",
        "      return sorted\n",
        "\n",
        "    prev = None\n",
        "    while head:\n",
        "      if head.num >= node.num:\n",
        "\n",
        "        if prev:\n",
        "          prev.next = node\n",
        "        else: # if no prev exists make it the first node\n",
        "          sorted.head = node\n",
        "\n",
        "        node.next = head\n",
        "        return sorted\n",
        "\n",
        "      prev = head\n",
        "      head = head.next\n",
        "\n",
        "    # otherwise insert at the end\n",
        "    sorted.insert_at_end(node.alpha, node.num)\n",
        "    return sorted\n",
        "\n",
        "  def insertion_sort(self):\n",
        "    '''\n",
        "    using the insertion sort algorithm on a linked list\n",
        "    '''\n",
        "    sorted = LinkedList()\n",
        "    head = chain.head\n",
        "    \n",
        "    while head:\n",
        "      next = head.next\n",
        "      sorted = self.insert_into_sorted_list(sorted, head)\n",
        "      head = next\n",
        "\n",
        "    return sorted\n",
        "\n",
        "# example runtime\n",
        "if __name__ == '__main__':\n",
        "  chain = LinkedList()\n",
        "  lst = [10, 9, 8, 5, 7, 4, 6, 2, 1, 0, 8]\n",
        "\n",
        "  for n in lst:\n",
        "    chain.insert_at_end('q', n)\n",
        "\n",
        "  print('Unsorted:')\n",
        "  chain.print_list()\n",
        "  print('Sorted:')\n",
        "  chain.insertion_sort().print_list()"
      ],
      "metadata": {
        "colab": {
          "base_uri": "https://localhost:8080/"
        },
        "id": "AQBuiuYJib7k",
        "outputId": "3678674c-756c-41c5-aa5c-51f173b9279e"
      },
      "execution_count": null,
      "outputs": [
        {
          "output_type": "stream",
          "name": "stdout",
          "text": [
            "Unsorted:\n",
            "(q, 10) -> (q, 9) -> (q, 8) -> (q, 5) -> (q, 7) -> (q, 4) -> (q, 6) -> (q, 2) -> (q, 1) -> (q, 0) -> (q, 8) -> None\n",
            "Sorted:\n",
            "(q, 0) -> (q, 1) -> (q, 2) -> (q, 4) -> (q, 5) -> (q, 6) -> (q, 7) -> (q, 8) -> (q, 8) -> (q, 9) -> (q, 10) -> None\n"
          ]
        }
      ]
    },
    {
      "cell_type": "markdown",
      "source": [
        "### *(b) merge sort algorithm.*"
      ],
      "metadata": {
        "id": "2fHbTDeV55Nl"
      }
    },
    {
      "cell_type": "code",
      "source": [
        "class LinkedList:\n",
        "  def __init__(self):\n",
        "    self.head = None\n",
        "\n",
        "  def print_list(self):\n",
        "    node = self.head\n",
        "    while node:\n",
        "      print(f'({node.alpha}, {node.num}) ->', end=' ')\n",
        "      node = node.next\n",
        "    print(None)\n",
        "  \n",
        "  def insert_at_end(self, alpha, num):\n",
        "    node = Node(alpha, num)\n",
        "    temp = self.head\n",
        "    if not temp:\n",
        "      self.head = node\n",
        "\n",
        "    while temp:\n",
        "      if temp.next is None:\n",
        "        temp.next = node\n",
        "        node.next = None\n",
        "      temp = temp.next\n",
        "\n",
        "  def find_middle(self, head):\n",
        "    '''\n",
        "    returns the middle node\n",
        "    '''\n",
        "    if head is None:\n",
        "      return head\n",
        "\n",
        "    slow_node = head\n",
        "    fast_node = head\n",
        "\n",
        "    while fast_node.next and fast_node.next.next:\n",
        "      slow_node = slow_node.next\n",
        "      fast_node = fast_node.next.next\n",
        "\n",
        "    return slow_node\n",
        "\n",
        "  def merge_sort(self, head):\n",
        "    '''\n",
        "    using the merge sort algorithm on a linked list\n",
        "    '''\n",
        "    if head.next is None:\n",
        "      sorted = LinkedList()\n",
        "      sorted.insert_at_end(head.alpha, head.num)\n",
        "      return sorted\n",
        "      \n",
        "    mid_node = self.find_middle(head)\n",
        "    mid_next = mid_node.next\n",
        "    mid_node.next = None\n",
        "\n",
        "    left = self.merge_sort(head)\n",
        "    right = self.merge_sort(mid_next)\n",
        "\n",
        "    return self.merge(left, right)\n",
        "\n",
        "  def merge(self, left, right):\n",
        "    '''\n",
        "    merging two sorted linked lists\n",
        "    '''\n",
        "    sorted = LinkedList()\n",
        "\n",
        "    left_head = left.head\n",
        "    right_head = right.head\n",
        "\n",
        "    while left_head and right_head:\n",
        "      if left_head.num < right_head.num:\n",
        "        sorted.insert_at_end(left_head.alpha, left_head.num)\n",
        "        left_head = left_head.next\n",
        "      else:\n",
        "        sorted.insert_at_end(right_head.alpha, right_head.num)\n",
        "        right_head = right_head.next\n",
        "\n",
        "    # if some elements are left\n",
        "    while right_head:\n",
        "      sorted.insert_at_end(right_head.alpha, right_head.num)\n",
        "      right_head = right_head.next\n",
        "    while left_head:\n",
        "      sorted.insert_at_end(left_head.alpha, left_head.num)\n",
        "      left_head = left_head.next\n",
        "      \n",
        "    return sorted\n",
        "\n",
        "# example runtime\n",
        "if __name__ == '__main__':\n",
        "  chain = LinkedList()\n",
        "  lst = [10, 9, 8, 5, 7, 4, 6, 2, 1, 0, 8]\n",
        "\n",
        "  for n in lst:\n",
        "    chain.insert_at_end('q', n)\n",
        "\n",
        "  print('Unsorted:')\n",
        "  chain.print_list()\n",
        "  print('Sorted:')\n",
        "  chain.merge_sort(chain.head).print_list()"
      ],
      "metadata": {
        "id": "FSHL6qzu73IB",
        "colab": {
          "base_uri": "https://localhost:8080/"
        },
        "outputId": "2343ff93-550c-4256-b3a5-6b8c8499d6d4"
      },
      "execution_count": null,
      "outputs": [
        {
          "output_type": "stream",
          "name": "stdout",
          "text": [
            "Unsorted:\n",
            "(q, 10) -> (q, 9) -> (q, 8) -> (q, 5) -> (q, 7) -> (q, 4) -> (q, 6) -> (q, 2) -> (q, 1) -> (q, 0) -> (q, 8) -> None\n",
            "Sorted:\n",
            "(q, 0) -> (q, 1) -> (q, 2) -> (q, 4) -> (q, 5) -> (q, 6) -> (q, 7) -> (q, 8) -> (q, 8) -> (q, 9) -> (q, 10) -> None\n"
          ]
        }
      ]
    }
  ]
}