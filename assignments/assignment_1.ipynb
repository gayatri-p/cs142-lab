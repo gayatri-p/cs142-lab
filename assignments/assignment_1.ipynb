{
  "nbformat": 4,
  "nbformat_minor": 0,
  "metadata": {
    "colab": {
      "provenance": [],
      "authorship_tag": "ABX9TyMG35EheQSBaQAVDwZBfvV0",
      "include_colab_link": true
    },
    "kernelspec": {
      "name": "python3",
      "display_name": "Python 3"
    },
    "language_info": {
      "name": "python"
    }
  },
  "cells": [
    {
      "cell_type": "markdown",
      "metadata": {
        "id": "view-in-github",
        "colab_type": "text"
      },
      "source": [
        "<a href=\"https://colab.research.google.com/github/gayatri-p/cs142-lab/blob/main/assignments/assignment_1.ipynb\" target=\"_parent\"><img src=\"https://colab.research.google.com/assets/colab-badge.svg\" alt=\"Open In Colab\"/></a>"
      ]
    },
    {
      "cell_type": "markdown",
      "source": [
        "# **Assignment 1**\n",
        "\n",
        "---\n",
        "\n",
        "#### *Recursion and insertion sort*\n"
      ],
      "metadata": {
        "id": "JE-49sYkoi01"
      }
    },
    {
      "cell_type": "markdown",
      "source": [
        "\n",
        "**Problem 1.** Given two integers $m$ and $n$, write a Python program to compute $n^m$ using at most $2 \\log m$\n",
        "many multiplications.\n",
        "\n",
        "**Hint:** Write a function to compute $n^m$ when $m = 2^k$ for some integer $k$ using $k$ many multiplications. Now use the binary representation of $m$ to solve the general case."
      ],
      "metadata": {
        "id": "l7UR29LbAh7O"
      }
    },
    {
      "cell_type": "code",
      "source": [
        "# finding n^m using binary representation\n",
        "counter = 0\n",
        "\n",
        "# for when it is of the form 2^k\n",
        "def exp_2(base, exp):\n",
        "\tglobal counter\n",
        "\tif exp == 0:\n",
        "\t\t\treturn base\n",
        "\treduced_exp = exp_2(base, exp-1)\n",
        "\tcounter += 1\n",
        "\treturn reduced_exp * reduced_exp\n",
        "\n",
        "# for general cases\n",
        "# by converting exp to its binary form\n",
        "# and traversing through each place value\n",
        "def power(base, exp):\n",
        "\trev_binary = bin(exp)[-1:1:-1]\n",
        "\n",
        "\tans = 1\n",
        "\tfor i in range(len(rev_binary)):\n",
        "\t\t# finding (2^i) \n",
        "\t\tif rev_binary[i] == \"1\":\n",
        "\t\t\tans *= exp_2(base, i)\n",
        "\n",
        "\treturn ans\n",
        "\n",
        "print(power(2, 25))\n",
        "print(counter)"
      ],
      "metadata": {
        "colab": {
          "base_uri": "https://localhost:8080/"
        },
        "id": "GtiaKjrvoqFG",
        "outputId": "76f2f65c-8b36-4587-fe05-be1a29fdb2fe"
      },
      "execution_count": null,
      "outputs": [
        {
          "output_type": "stream",
          "name": "stdout",
          "text": [
            "33554432\n",
            "7\n"
          ]
        }
      ]
    },
    {
      "cell_type": "code",
      "source": [
        "counter = 0\n",
        "\n",
        "# without using binary representation\n",
        "def power(base, exp):\n",
        "  global counter\n",
        "  counter += 1\n",
        "\n",
        "  # exponent is 1, return the base  \n",
        "  if exp == 1:\n",
        "    return base\n",
        "\n",
        "  # If exponent is even, divide it by 2 and square the base\n",
        "  if exp % 2 == 0:\n",
        "    temp =  power(base, exp/2)\n",
        "    return temp * temp\n",
        "\n",
        "  else:\n",
        "    # else make n^m as n*(n^m-1)\n",
        "    temp = power(base, (exp-1)/2)\n",
        "    return base*temp*temp\n",
        "\n",
        "print(power(2, 25))\n",
        "print(counter)"
      ],
      "metadata": {
        "colab": {
          "base_uri": "https://localhost:8080/"
        },
        "id": "JHsOV07eq7AB",
        "outputId": "24c50b47-9437-4c9e-f0e7-d11c47547aed"
      },
      "execution_count": null,
      "outputs": [
        {
          "output_type": "stream",
          "name": "stdout",
          "text": [
            "33554432\n",
            "5\n"
          ]
        }
      ]
    },
    {
      "cell_type": "markdown",
      "source": [
        "**Problem 2. (a)** Suppose we are given a list of courses of length $2n − 1$ where every course is appearing twice except exactly one course. Write a Python program to find that course in $O(n)$ time.**bold text**"
      ],
      "metadata": {
        "id": "8_CZlCv-A_SQ"
      }
    },
    {
      "cell_type": "code",
      "source": [
        "def course_counter(courses):\n",
        "\tcounter = {}\n",
        "\n",
        "\tfor course in courses:\n",
        "\t\tif course in counter:\n",
        "\t\t\tcounter[course] += 1\n",
        "\t\telse:\n",
        "\t\t\tcounter[course] = 1\n",
        "\n",
        "\tfor course in counter:\n",
        "\t\tif counter[course] == 1:\n",
        "\t\t\treturn course\n",
        "\n",
        "courses = ['B102', 'C102', 'CS142', 'M102', 'B102', 'C102', 'M102', 'P102', 'P102']\n",
        "print(course_counter(courses))"
      ],
      "metadata": {
        "colab": {
          "base_uri": "https://localhost:8080/"
        },
        "id": "a_fHX5tso3j6",
        "outputId": "67e17074-b7ed-45e1-a0a3-6508a55e8221"
      },
      "execution_count": null,
      "outputs": [
        {
          "output_type": "stream",
          "name": "stdout",
          "text": [
            "CS142\n"
          ]
        }
      ]
    },
    {
      "cell_type": "markdown",
      "source": [
        "**Problem 2. (b)** If that list contains numbers from $1, 2, . . . , n$ where every number is appearing twice except exactly one number, then write a Python program to find that number in $O(n)$ time using only one auxiliary variable."
      ],
      "metadata": {
        "id": "K2n_K6XxBGZe"
      }
    },
    {
      "cell_type": "code",
      "source": [
        "def number_counter(nums):\n",
        "\tcount = {}\n",
        "\tfor n in nums:\n",
        "\t\tif n in count:\n",
        "\t\t\tcount[n] += 1\n",
        "\t\telse:\n",
        "\t\t\tcount[n] = 1\n",
        "\n",
        "\tfor n in count:\n",
        "\t\tif count[n] == 1:\n",
        "\t\t\treturn n\n",
        "\n",
        "nums = [1, 1, 2, 3, 2, 5, 5, 4, 3]\n",
        "print(number_counter(nums))"
      ],
      "metadata": {
        "colab": {
          "base_uri": "https://localhost:8080/"
        },
        "id": "w_4nEX2xo62I",
        "outputId": "80e86337-8c5c-4163-8a22-b0a3026c23c8"
      },
      "execution_count": null,
      "outputs": [
        {
          "output_type": "stream",
          "name": "stdout",
          "text": [
            "4\n"
          ]
        }
      ]
    },
    {
      "cell_type": "markdown",
      "source": [
        "**Problem 3.** Given a list of $n$ numbers and an integer $k$, write a Python code to sort the elements appearing in a position divisible by $k$ in the ascending order and the remaining elements in the descending order in $O(n^2)$ time modifying the insertion sort algorithm. Write a code for the same problem without using any auxiliary list.\n",
        "\n",
        "**Input:** [31, 12, 21, 55, 14, 1, 51, 30, 2, 7], 3\n",
        "\n",
        "**Output:** [55, 51, 1, 31, 30, 2, 14, 12, 21, 7]\n",
        "\n",
        "**Hint:** Try to solve it using two different lists for different *types* of position indices. To solve it using a single list, first check the index type of the current element and insert it in the correct position."
      ],
      "metadata": {
        "id": "OcnDdxdrBQUG"
      }
    },
    {
      "cell_type": "code",
      "source": [
        "def insertion_sort(lst, k):\n",
        "\t# ordering kth items in ascending order\n",
        "\tfor i in range(k-1, len(lst), k):\n",
        "\t\tcurrent = lst[i]\n",
        "\t\tj = i-k\n",
        "\t\twhile j >= 0 and lst[j] > current:\n",
        "\t\t\t\tlst[j+k] = lst[j]\n",
        "\t\t\t\tj -= k\n",
        "\t\tlst[j+k]=current\n",
        "        \n",
        "\t# ordering other items in descending order\n",
        "\tfor i in range(len(lst)):\n",
        "\t\tif (i+1) % k != 0:\n",
        "\t\t\tcurrent = lst[i]\n",
        "\n",
        "\t\t\t# initializing j\n",
        "\t\t\tif i % k == 0:\n",
        "\t\t\t\tj = i-2\n",
        "\t\t\telse:\n",
        "\t\t\t\tj = i-1\n",
        "\n",
        "\t\t\t# insertion into the correct position\n",
        "\t\t\twhile j >= 0 and lst[j] < current:\n",
        "\t\t\t\tif (j+2) % k == 0:\n",
        "\t\t\t\t\tlst[j+2] = lst[j]\n",
        "\t\t\t\telse:\n",
        "\t\t\t\t\tlst[j+1] = lst[j]\n",
        "\t\t\t\tif j % k == 0:\n",
        "\t\t\t\t\tj -= 2\n",
        "\t\t\t\telse:\n",
        "\t\t\t\t\tj -= 1\n",
        "\n",
        "\t\t\tif (j+2) % k == 0:\n",
        "\t\t\t\tlst[j+2] = current\n",
        "\t\t\telse:\n",
        "\t\t\t\tlst[j+1] = current\n",
        "\t\n",
        "\treturn lst\n",
        "\n",
        "lst = [31, 12, 21, 55, 14, 1, 51, 30, 2, 7]\n",
        "lst = [10, 7, 9, 8]\n",
        "print(insertion_sort(lst, 3))"
      ],
      "metadata": {
        "colab": {
          "base_uri": "https://localhost:8080/"
        },
        "id": "RbMwzDT2o_zt",
        "outputId": "b4cc0d35-7d9c-49af-eba7-28783e49512b"
      },
      "execution_count": null,
      "outputs": [
        {
          "output_type": "stream",
          "name": "stdout",
          "text": [
            "[10, 8, 9, 7]\n"
          ]
        }
      ]
    },
    {
      "cell_type": "markdown",
      "source": [
        "**Problem 4.** Given a list $L$, an inversion is a pair $(i, j)$ such that $i < j$ but $L[i] > L[j]$. Modify the code of the insertion sort to count the number of inversions of a given list."
      ],
      "metadata": {
        "id": "Xn0_ZpJlBiVR"
      }
    },
    {
      "cell_type": "code",
      "source": [
        "def count_inversions(lst):\n",
        "\tinversions = 0\n",
        "\tfor i in range(1, len(lst)):\n",
        "\t\tcurrent = lst[i]\n",
        "\t\tj = i-1\n",
        "\t\twhile j >= 0 and current < lst[j]:\n",
        "\t\t\tlst[j+1] = lst[j]\n",
        "\t\t\tj -= 1\n",
        "\t\t\tinversions += 1\n",
        "\t\tlst[j+1] = current\n",
        "\t\n",
        "\treturn inversions\n",
        "\n",
        "lst = [31, 12, 21, 55, 14, 1, 51, 30, 2, 7]\n",
        "print('Number of inversions used:', count_inversions(lst))"
      ],
      "metadata": {
        "colab": {
          "base_uri": "https://localhost:8080/"
        },
        "id": "Vm1oKPhXpC7n",
        "outputId": "4dc25c97-d277-4388-d3bc-eebbf2683a67"
      },
      "execution_count": null,
      "outputs": [
        {
          "output_type": "stream",
          "name": "stdout",
          "text": [
            "Number of inversions used: 28\n"
          ]
        }
      ]
    }
  ]
}