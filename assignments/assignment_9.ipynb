{
  "nbformat": 4,
  "nbformat_minor": 0,
  "metadata": {
    "colab": {
      "provenance": [],
      "authorship_tag": "ABX9TyNyQiT3jcaT7Apbk2TIGB0Y",
      "include_colab_link": true
    },
    "kernelspec": {
      "name": "python3",
      "display_name": "Python 3"
    },
    "language_info": {
      "name": "python"
    }
  },
  "cells": [
    {
      "cell_type": "markdown",
      "metadata": {
        "id": "view-in-github",
        "colab_type": "text"
      },
      "source": [
        "<a href=\"https://colab.research.google.com/github/gayatri-p/cs142-lab/blob/main/assignments/assignment_9.ipynb\" target=\"_parent\"><img src=\"https://colab.research.google.com/assets/colab-badge.svg\" alt=\"Open In Colab\"/></a>"
      ]
    },
    {
      "cell_type": "markdown",
      "source": [
        "## **Assignment 9**\n",
        "\n",
        "---\n",
        "\n",
        "#### *Hashing and hash-tables*\n",
        "\n",
        "\n",
        "\n"
      ],
      "metadata": {
        "id": "yggBS1wF38XI"
      }
    },
    {
      "cell_type": "markdown",
      "source": [
        "**Problem 1.** Create n (where $n = 20$) objects where each object (item) contains a name of a student and the marks obtained in an exam. Students’ names correspond to the keys of items and\n",
        "the marks obtained correspond to the values. Using the in-built *(prehash function)* ’hash’, map keys to integers and use your own version of the hash function to reduce the range to\n",
        "$[1, 10]$ $(m = 10)$."
      ],
      "metadata": {
        "id": "kKIn1CKw4Ecy"
      }
    },
    {
      "cell_type": "code",
      "source": [
        "class Object:\n",
        "  ''' an object is a key value pair\n",
        "  '''\n",
        "  def __init__(self, key, value):\n",
        "    self.key = key\n",
        "    self.value = value \n",
        "\n",
        "class HashMap:\n",
        "  def __init__(self, size):\n",
        "    self.table = [[] for _ in range(size)]\n",
        "\n",
        "  def reduce(self, key):\n",
        "    ''' reduce the range of prehash\n",
        "    '''\n",
        "    return key % M\n",
        "\n",
        "  def insert(self, key, value):\n",
        "    item = Object(key, value)\n",
        "    index = self.reduce(hash(key))\n",
        "    \n",
        "    self.table[index].append(item)\n",
        "\n",
        "  def search(self, key):\n",
        "    index = self.reduce(hash(key))\n",
        "    \n",
        "    if self.table[index]:\n",
        "      for i in self.table[index]:\n",
        "        if i.key == key:\n",
        "          return i.value\n",
        "    \n",
        "    return f'{key} not in Hash Table'\n",
        "\n",
        "  def delete(self, key):\n",
        "    index = self.reduce(hash(key))\n",
        "\n",
        "    if self.table[index]:\n",
        "      for i, item in enumerate(self.table[index]):\n",
        "          if item.key == key:\n",
        "            self.table[index].pop(i)\n",
        "            return f'{key} deleted from Hash Table'\n",
        "\n",
        "    return f'{key} not in Hash Table'"
      ],
      "metadata": {
        "id": "4YVbX0IBjA6K"
      },
      "execution_count": null,
      "outputs": []
    },
    {
      "cell_type": "code",
      "source": [
        "from random import randint\n",
        "            \n",
        "n = 20\n",
        "M = 10\n",
        "\n",
        "table1 = HashMap(n)\n",
        "for i in range(n):\n",
        "  table1.insert(chr(65+i), randint(1, 100))\n",
        "\n",
        "print('B:', table1.search('B'))\n",
        "print('S:', table1.search('S'))\n",
        "print('J:', table1.search('J'))"
      ],
      "metadata": {
        "colab": {
          "base_uri": "https://localhost:8080/"
        },
        "id": "VdaSBwGAjRk1",
        "outputId": "6b44d066-1d5d-44bf-da65-7f83d01624df"
      },
      "execution_count": null,
      "outputs": [
        {
          "output_type": "stream",
          "name": "stdout",
          "text": [
            "B: 79\n",
            "S: 72\n",
            "J: 44\n"
          ]
        }
      ]
    },
    {
      "cell_type": "markdown",
      "source": [
        "**Problem 2.** Implement a hash table using either list of lists or a list of linked lists where you can insert, delete and search in $O(1)$ time (on avg.) whenever $m = θ(n)$."
      ],
      "metadata": {
        "id": "fkNOcdFp44HC"
      }
    },
    {
      "cell_type": "code",
      "source": [
        "n = 20\n",
        "M = 10\n",
        "\n",
        "table2 = HashMap(n)\n",
        "\n",
        "# insertion\n",
        "table2.insert('key1', 20)\n",
        "table2.insert('key2', 56)\n",
        "table2.insert('key3', 33)\n",
        "\n",
        "# searching\n",
        "print('Searching')\n",
        "print('key1:', table2.search('key1'))\n",
        "print('key2:', table2.search('key2'))\n",
        "print('key3:', table2.search('key3'))\n",
        " \n",
        "# deletion\n",
        "print('\\nAfter deletion')\n",
        "table2.delete('key2')\n",
        "print(table2.search('key2'))"
      ],
      "metadata": {
        "colab": {
          "base_uri": "https://localhost:8080/"
        },
        "id": "X-3ajGpDPq0z",
        "outputId": "517d4745-9890-4607-d256-034aa92d0fd0"
      },
      "execution_count": null,
      "outputs": [
        {
          "output_type": "stream",
          "name": "stdout",
          "text": [
            "Searching\n",
            "key1: 20\n",
            "key2: 56\n",
            "key3: 33\n",
            "\n",
            "After deletion\n",
            "key2 not in Hash Table\n"
          ]
        }
      ]
    }
  ]
}