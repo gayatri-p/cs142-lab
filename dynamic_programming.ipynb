{
  "nbformat": 4,
  "nbformat_minor": 0,
  "metadata": {
    "colab": {
      "provenance": [],
      "authorship_tag": "ABX9TyM2k5T3tNuSJuh9GOTGcou7",
      "include_colab_link": true
    },
    "kernelspec": {
      "name": "python3",
      "display_name": "Python 3"
    },
    "language_info": {
      "name": "python"
    }
  },
  "cells": [
    {
      "cell_type": "markdown",
      "metadata": {
        "id": "view-in-github",
        "colab_type": "text"
      },
      "source": [
        "<a href=\"https://colab.research.google.com/github/gayatri-p/cs142-lab/blob/main/dynamic_programming.ipynb\" target=\"_parent\"><img src=\"https://colab.research.google.com/assets/colab-badge.svg\" alt=\"Open In Colab\"/></a>"
      ]
    },
    {
      "cell_type": "markdown",
      "source": [
        "#**Dynamic Programming**"
      ],
      "metadata": {
        "id": "jkUAIhJe9CCG"
      }
    },
    {
      "cell_type": "markdown",
      "source": [
        "### 1. Using **backtracking** to find a subset of a set which sums upto a given target value."
      ],
      "metadata": {
        "id": "eihhhtzZEWPN"
      }
    },
    {
      "cell_type": "code",
      "source": [
        "counter = 0\n",
        "\n",
        "def find_subset(lst, n, t, subset=[]):\n",
        "  global counter\n",
        "\n",
        "  if t == 0:\n",
        "    return subset\n",
        "  \n",
        "  if n == 0:\n",
        "    return False\n",
        "\n",
        "  # ignore if last element greater than the sum\n",
        "  if (lst[n-1] > t):\n",
        "    counter+=1\n",
        "    return find_subset(lst, n-1, t, subset)\n",
        "\n",
        "  counter += 2\n",
        "  including_last = find_subset(lst, n-1, t-lst[n-1], subset+[lst[n-1]])\n",
        "  excluding_last = find_subset(lst, n-1, t, subset)\n",
        "\n",
        "  return including_last or excluding_last\n",
        "\n",
        "lst = [5, 10, 12, 13, 15, 18]\n",
        "t = 30\n",
        "print(find_subset(lst, len(lst), t))\n",
        "print('No. of function runs:', counter)"
      ],
      "metadata": {
        "colab": {
          "base_uri": "https://localhost:8080/"
        },
        "id": "JdeKvi3Q9G-r",
        "outputId": "86472715-0180-497c-fdb6-215405151c58"
      },
      "execution_count": 1,
      "outputs": [
        {
          "output_type": "stream",
          "name": "stdout",
          "text": [
            "[18, 12]\n",
            "No. of function runs: 55\n"
          ]
        }
      ]
    }
  ]
}