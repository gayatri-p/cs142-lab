{
  "nbformat": 4,
  "nbformat_minor": 0,
  "metadata": {
    "colab": {
      "provenance": [],
      "authorship_tag": "ABX9TyNdYjGnEpVSvlFiLkc4Ui+i",
      "include_colab_link": true
    },
    "kernelspec": {
      "name": "python3",
      "display_name": "Python 3"
    },
    "language_info": {
      "name": "python"
    }
  },
  "cells": [
    {
      "cell_type": "markdown",
      "metadata": {
        "id": "view-in-github",
        "colab_type": "text"
      },
      "source": [
        "<a href=\"https://colab.research.google.com/github/gayatri-p/cs142-lab/blob/main/dynamic_programming.ipynb\" target=\"_parent\"><img src=\"https://colab.research.google.com/assets/colab-badge.svg\" alt=\"Open In Colab\"/></a>"
      ]
    },
    {
      "cell_type": "markdown",
      "source": [
        "#**Dynamic Programming**"
      ],
      "metadata": {
        "id": "jkUAIhJe9CCG"
      }
    },
    {
      "cell_type": "markdown",
      "source": [
        "### 1. Using **backtracking** to find a subset of a set which sums upto a given target value."
      ],
      "metadata": {
        "id": "eihhhtzZEWPN"
      }
    },
    {
      "cell_type": "code",
      "source": [
        "counter = 0\n",
        "\n",
        "def find_subset(lst, n, t, subset=[]):\n",
        "  global counter\n",
        "\n",
        "  if t == 0:\n",
        "    return subset\n",
        "  \n",
        "  if n == 0:\n",
        "    return False\n",
        "\n",
        "  # ignore if last element greater than the sum\n",
        "  if (lst[n-1] > t):\n",
        "    counter+=1\n",
        "    return find_subset(lst, n-1, t, subset)\n",
        "\n",
        "  counter += 2\n",
        "  including_last = find_subset(lst, n-1, t-lst[n-1], subset+[lst[n-1]])\n",
        "  excluding_last = find_subset(lst, n-1, t, subset)\n",
        "\n",
        "  return including_last or excluding_last\n",
        "\n",
        "lst = [5, 10, 12, 13, 15, 18]\n",
        "t = 30\n",
        "print(find_subset(lst, len(lst), t))\n",
        "print('No. of function runs:', counter)"
      ],
      "metadata": {
        "colab": {
          "base_uri": "https://localhost:8080/"
        },
        "id": "JdeKvi3Q9G-r",
        "outputId": "86472715-0180-497c-fdb6-215405151c58"
      },
      "execution_count": null,
      "outputs": [
        {
          "output_type": "stream",
          "name": "stdout",
          "text": [
            "[18, 12]\n",
            "No. of function runs: 55\n"
          ]
        }
      ]
    },
    {
      "cell_type": "markdown",
      "source": [
        "### 2. $n^{\\text{th}}$ fibonacci number using memorization"
      ],
      "metadata": {
        "id": "NXjZuOeV2yWe"
      }
    },
    {
      "cell_type": "code",
      "source": [
        "fibs = {1: 1, 2: 1}\n",
        "\n",
        "def fibonacci(n):\n",
        "  if n in fibs:\n",
        "    return fibs[n]\n",
        "  else:\n",
        "    a = fibonacci(n-1)\n",
        "    b = fibonacci(n-2)\n",
        "\n",
        "    fibs[n] = a+b\n",
        "    return a+b\n",
        "\n",
        "print(fibonacci(100))"
      ],
      "metadata": {
        "colab": {
          "base_uri": "https://localhost:8080/"
        },
        "id": "dZL9Witf1a7Q",
        "outputId": "3d93c02f-70f4-4c95-e418-447ef71fc9c1"
      },
      "execution_count": null,
      "outputs": [
        {
          "output_type": "stream",
          "name": "stdout",
          "text": [
            "354224848179261915075\n"
          ]
        }
      ]
    },
    {
      "cell_type": "markdown",
      "source": [
        "### 3. Maximum using divide and conquer"
      ],
      "metadata": {
        "id": "1EAn-A2L3F5Y"
      }
    },
    {
      "cell_type": "code",
      "source": [
        "counter = 0\n",
        "def find_max(lst):\n",
        "  global counter\n",
        "  counter += 1\n",
        "\n",
        "  if len(lst) == 1:\n",
        "    return lst[0]\n",
        "\n",
        "  mid = len(lst) // 2\n",
        "  left = find_max(lst[:mid])\n",
        "  right = find_max(lst[mid:])\n",
        "\n",
        "  if right > left:\n",
        "    return right\n",
        "  return right\n",
        "\n",
        "print(find_max([1,9, 2, 8, 3, 7, 4, 6, 5]))\n",
        "print(counter)"
      ],
      "metadata": {
        "colab": {
          "base_uri": "https://localhost:8080/"
        },
        "id": "pqbx0enS198U",
        "outputId": "79262d6a-cba1-4710-ba4a-23abac70404b"
      },
      "execution_count": null,
      "outputs": [
        {
          "output_type": "stream",
          "name": "stdout",
          "text": [
            "5\n",
            "17\n"
          ]
        }
      ]
    }
  ]
}