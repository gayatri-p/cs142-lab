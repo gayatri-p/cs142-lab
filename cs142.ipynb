{
  "nbformat": 4,
  "nbformat_minor": 0,
  "metadata": {
    "colab": {
      "provenance": [],
      "authorship_tag": "ABX9TyOJ59TO7sD6HXz3GJ1Dbl+E",
      "include_colab_link": true
    },
    "kernelspec": {
      "name": "python3",
      "display_name": "Python 3"
    },
    "language_info": {
      "name": "python"
    }
  },
  "cells": [
    {
      "cell_type": "markdown",
      "metadata": {
        "id": "view-in-github",
        "colab_type": "text"
      },
      "source": [
        "<a href=\"https://colab.research.google.com/github/gayatri-p/ideal-octo-waddle/blob/main/cs142.ipynb\" target=\"_parent\"><img src=\"https://colab.research.google.com/assets/colab-badge.svg\" alt=\"Open In Colab\"/></a>"
      ]
    },
    {
      "cell_type": "markdown",
      "source": [
        "# Assignment 1"
      ],
      "metadata": {
        "id": "JE-49sYkoi01"
      }
    },
    {
      "cell_type": "code",
      "source": [
        "def power(n, m):\n",
        "    if m == 0:\n",
        "   \t return 1\n",
        "    \n",
        "    if m % 2 == 0:\n",
        "   \t temp =  power(n, m/2)\n",
        "   \t return temp*temp\n",
        "    else:\n",
        "   \t temp = power(n, (m-1)/2)\n",
        "   \t return n*temp*temp\n",
        "   \t \n",
        "print(power(2, 32))"
      ],
      "metadata": {
        "colab": {
          "base_uri": "https://localhost:8080/"
        },
        "id": "GtiaKjrvoqFG",
        "outputId": "f4583761-fbc7-42e2-c37c-cb9720782df4"
      },
      "execution_count": null,
      "outputs": [
        {
          "output_type": "stream",
          "name": "stdout",
          "text": [
            "4294967296\n"
          ]
        }
      ]
    },
    {
      "cell_type": "code",
      "source": [
        "def course_counter(courses):\n",
        "    counter = {}\n",
        "\n",
        "    for course in courses:\n",
        "   \t if course in counter:\n",
        "   \t\t counter[course] += 1\n",
        "   \t else:\n",
        "   \t\t counter[course] = 1\n",
        "\n",
        "    for course in counter:\n",
        "   \t if counter[course] == 1:\n",
        "   \t\t return course\n",
        "\n",
        "courses = ['B102', 'C102', 'CS142', 'M102', 'B102', 'C102', 'M102']\n",
        "print(course_counter(courses))"
      ],
      "metadata": {
        "colab": {
          "base_uri": "https://localhost:8080/"
        },
        "id": "a_fHX5tso3j6",
        "outputId": "16a3506a-d97f-482a-c5b3-3e11b3ff2535"
      },
      "execution_count": null,
      "outputs": [
        {
          "output_type": "stream",
          "name": "stdout",
          "text": [
            "CS142\n"
          ]
        }
      ]
    },
    {
      "cell_type": "code",
      "source": [
        "def number_counter(nums):\n",
        "    count = {}\n",
        "    for n in nums:\n",
        "   \t if n in count:\n",
        "   \t\t count[n] += 1\n",
        "   \t else:\n",
        "   \t\t count[n] = 1\n",
        "\n",
        "    for n in count:\n",
        "   \t if count[n] == 1:\n",
        "   \t\t return n\n",
        "\n",
        "nums = [1, 1, 2, 3, 2, 5, 5, 4, 3]\n",
        "print(number_counter(nums))"
      ],
      "metadata": {
        "colab": {
          "base_uri": "https://localhost:8080/"
        },
        "id": "w_4nEX2xo62I",
        "outputId": "2dd2d0ba-4627-4b96-e23c-a27dd2097dd0"
      },
      "execution_count": null,
      "outputs": [
        {
          "output_type": "stream",
          "name": "stdout",
          "text": [
            "4\n"
          ]
        }
      ]
    },
    {
      "cell_type": "code",
      "source": [
        "def insertion_sort(lst, k):\n",
        "    for i in range(1, len(lst)):\n",
        "   \t current = lst[i]\n",
        "   \t \n",
        "   \t if (i+1) % k == 0:\n",
        "   \t\t j = i-k\n",
        "   \t\t while j >= 0 and current < lst[j]:\n",
        "   \t\t\t lst[j+k] = lst[j]\n",
        "   \t\t\t j -= k\n",
        "   \t\t lst[j+k] = current\n",
        "   \t\t\t \n",
        "   \t else:    \n",
        "   \t\t j = i-1\n",
        "   \t\t while j >= 0 and current > lst[j]:\n",
        "   \t\t\t if (j+1) % k == 0:\n",
        "   \t\t\t\t j -= 1\n",
        "   \t\t\t\t lst[j+2] = lst[j]\n",
        "   \t\t\t else:\n",
        "   \t\t\t\t lst[j+1] = lst[j]\n",
        "   \t\t\t j -= 1\n",
        "   \t\t lst[j+1] = current\n",
        "    \n",
        "    return lst\n",
        "\n",
        "lst = [31, 12, 21, 55, 14, 1, 51, 30, 2, 7]\n",
        "lst = [10, 7,9, 8]\n",
        "print(insertion_sort(lst, 3))"
      ],
      "metadata": {
        "colab": {
          "base_uri": "https://localhost:8080/"
        },
        "id": "RbMwzDT2o_zt",
        "outputId": "bcb2acd4-f416-4ea1-a024-1f7bff4d65d7"
      },
      "execution_count": null,
      "outputs": [
        {
          "output_type": "stream",
          "name": "stdout",
          "text": [
            "[10, 7, 9, 8]\n"
          ]
        }
      ]
    },
    {
      "cell_type": "code",
      "source": [
        "def count_inversions(lst):\n",
        "    inversions = 0\n",
        "    for i in range(1, len(lst)):\n",
        "   \t current = lst[i]\n",
        "   \t j = i-1\n",
        "   \t while j >= 0 and current < lst[j]:\n",
        "   \t\t lst[j+1] = lst[j]\n",
        "   \t\t j -= 1\n",
        "   \t\t inversions += 1\n",
        "   \t lst[j+1] = current\n",
        "    \n",
        "    return inversions\n",
        "\n",
        "lst = [31, 12, 21, 55, 14, 1, 51, 30, 2, 7]\n",
        "print('Number of inversions used:', count_inversions(lst))"
      ],
      "metadata": {
        "colab": {
          "base_uri": "https://localhost:8080/"
        },
        "id": "Vm1oKPhXpC7n",
        "outputId": "d5628cc3-dcdb-4c64-9104-6e0f41945837"
      },
      "execution_count": null,
      "outputs": [
        {
          "output_type": "stream",
          "name": "stdout",
          "text": [
            "Number of inversions used: 28\n"
          ]
        }
      ]
    },
    {
      "cell_type": "markdown",
      "source": [
        "# Assignment 2"
      ],
      "metadata": {
        "id": "LvY2eU3SpHGY"
      }
    },
    {
      "cell_type": "code",
      "source": [],
      "metadata": {
        "id": "xaIZNlt-pMAY"
      },
      "execution_count": null,
      "outputs": []
    }
  ]
}