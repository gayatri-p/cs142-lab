{
  "nbformat": 4,
  "nbformat_minor": 0,
  "metadata": {
    "colab": {
      "provenance": [],
      "authorship_tag": "ABX9TyMCq4X4M4r5ICdvj4OA2V4Z",
      "include_colab_link": true
    },
    "kernelspec": {
      "name": "python3",
      "display_name": "Python 3"
    },
    "language_info": {
      "name": "python"
    }
  },
  "cells": [
    {
      "cell_type": "markdown",
      "metadata": {
        "id": "view-in-github",
        "colab_type": "text"
      },
      "source": [
        "<a href=\"https://colab.research.google.com/github/gayatri-p/cs142-lab/blob/main/assignment_5.ipynb\" target=\"_parent\"><img src=\"https://colab.research.google.com/assets/colab-badge.svg\" alt=\"Open In Colab\"/></a>"
      ]
    },
    {
      "cell_type": "markdown",
      "source": [
        "# **Assignment 5**\n",
        "\n",
        "---\n",
        "\n"
      ],
      "metadata": {
        "id": "yggBS1wF38XI"
      }
    },
    {
      "cell_type": "markdown",
      "source": [
        "**Problem 1(a).** Given a set of non-negative integers, a value $t$, and an integer $k$, determine if there is a subset of size exactly $k$ such that the sum of the elements in the set is equal to $t$. Use backtracking to reduce the number of calls you make to your recursive function.\n",
        "\n",
        "*Example:* \\\\\n",
        "**Input:** [3, 34, 4, 12, 5, 2], t = 9, k = 2 \\\\\n",
        "**Output:** True, there is a subset (4, 5) of size 2 with a sum of 9."
      ],
      "metadata": {
        "id": "kKIn1CKw4Ecy"
      }
    },
    {
      "cell_type": "code",
      "source": [
        "counter = 0\n",
        "\n",
        "def find_subset(lst, n, t, k, subset=[]):\n",
        "  global counter\n",
        "  counter += 1\n",
        "\n",
        "  if t == 0:\n",
        "    if len(subset) == k: \n",
        "      return subset\n",
        "    else:\n",
        "      return False\n",
        "  \n",
        "  if n == 0:\n",
        "    return False\n",
        "\n",
        "  # ignore if last element greater than the sum\n",
        "  if (lst[n-1] > t):\n",
        "    return find_subset(lst, n-1, t, k, subset)\n",
        "\n",
        "  including_last = find_subset(lst, n-1, t-lst[n-1], k, subset+[lst[n-1]])\n",
        "  excluding_last = find_subset(lst, n-1, t, k, subset)\n",
        "\n",
        "  return including_last or excluding_last\n",
        "\n",
        "lst = [22, 11, 9, 10]\n",
        "t = 19\n",
        "k = 2\n",
        "print(find_subset(lst, len(lst), t, k))\n",
        "print('No. of function runs:', counter)"
      ],
      "metadata": {
        "colab": {
          "base_uri": "https://localhost:8080/"
        },
        "id": "hSnX4mQn7ytF",
        "outputId": "080cc90e-b4e8-4f4e-9107-c909cbb60cea"
      },
      "execution_count": 2,
      "outputs": [
        {
          "output_type": "stream",
          "name": "stdout",
          "text": [
            "[10, 9]\n",
            "No. of function runs: 15\n"
          ]
        }
      ]
    },
    {
      "cell_type": "markdown",
      "source": [
        "**Problem 1(b).** Given a set of positive and negative integers, and a value $t$, and an integer $k$ determine if there is a subset of size exactly k, such that the sum of the elements in the set is equal to $t$. Write a program that uses the function in Problem 1 as a subroutine."
      ],
      "metadata": {
        "id": "fkNOcdFp44HC"
      }
    },
    {
      "cell_type": "code",
      "source": [
        "'''Run code cell for 1(a) first'''\n",
        "\n",
        "counter = 0\n",
        "\n",
        "def find_subset_2(lst, t, k):\n",
        "  n = min(lst)-1\n",
        "  lst = [i-n for i in lst]\n",
        "  t -= n*k\n",
        "  subset = find_subset(lst, len(lst), t, k)\n",
        "\n",
        "  if subset:\n",
        "    return [i+n for i in subset]\n",
        "  return None\n",
        "\n",
        "lst = [8, 7, 6, 5, 4, 3, 2, 1, -1, -5, -6]\n",
        "t = 3\n",
        "k = 2\n",
        "\n",
        "print(find_subset_2(lst, t, k))\n",
        "print('No. of function runs:', counter)"
      ],
      "metadata": {
        "colab": {
          "base_uri": "https://localhost:8080/"
        },
        "id": "EqxnpiEF70Ij",
        "outputId": "7ba8e177-c03e-40c6-cca9-56c94e2210a4"
      },
      "execution_count": 3,
      "outputs": [
        {
          "output_type": "stream",
          "name": "stdout",
          "text": [
            "[-5, 8]\n",
            "No. of function runs: 270\n"
          ]
        }
      ]
    },
    {
      "cell_type": "markdown",
      "source": [
        "**Problem 2(a).** Given an $n×n$ chess board, you must place $n$ queens on the board so that no two queens attack each other. Print a matrix satisfying the conditions with positions with queens marked with $1$ and empty spaces with $0$. You must solve the $n$ queens problem using backtracking."
      ],
      "metadata": {
        "id": "Q5arsxc955Kp"
      }
    },
    {
      "cell_type": "code",
      "source": [
        "def place_queens(board, n, m):\n",
        "  l=len(board)\n",
        "  for i in range(l):\n",
        "    for j in range(l):\n",
        "      if (i+j)-(n+m) % 2 == 0:\n",
        "        board[i][j] == -1\n",
        "  # b = [[board[i][j] for j in range(l) if j != m] for i in range(l) if i != m]\n",
        "  \n",
        "  return board\n",
        "\n",
        "n = 8\n",
        "board = [[0 for j in range(n)] for i in range(n)]\n",
        "board[3][4] = 1\n",
        "board1 = place_queens(board, 3, 4)\n",
        "for row in board1:\n",
        "  print(row)"
      ],
      "metadata": {
        "colab": {
          "base_uri": "https://localhost:8080/"
        },
        "id": "hiWc5Uvu71Pg",
        "outputId": "8c3dbb18-f7da-4e71-c470-a0d25603f6c2"
      },
      "execution_count": null,
      "outputs": [
        {
          "output_type": "stream",
          "name": "stdout",
          "text": [
            "0 1\n",
            "1 0\n",
            "[0, 0, 0, 0, 0, 0, 0, 0]\n",
            "[0, 0, 0, 0, 0, 0, 0, 0]\n",
            "[0, 0, 0, 0, 0, 0, 0, 0]\n",
            "[0, 0, 0, 0, 1, 0, 0, 0]\n",
            "[0, 0, 0, 0, 0, 0, 0, 0]\n",
            "[0, 0, 0, 0, 0, 0, 0, 0]\n",
            "[0, 0, 0, 0, 0, 0, 0, 0]\n",
            "[0, 0, 0, 0, 0, 0, 0, 0]\n"
          ]
        }
      ]
    },
    {
      "cell_type": "markdown",
      "source": [
        "**Problem 2(b).** Let us define a super-queen if a queen also has the power of a knight. Given an $n × n$ chess board, use backtracking to find the maximum number of super-queens you can place in the board so that no two super-queens attack each other."
      ],
      "metadata": {
        "id": "2fHbTDeV55Nl"
      }
    },
    {
      "cell_type": "code",
      "source": [],
      "metadata": {
        "colab": {
          "base_uri": "https://localhost:8080/"
        },
        "id": "FSHL6qzu73IB",
        "outputId": "215fe041-d329-4c2f-9026-e8d5287e44a9"
      },
      "execution_count": null,
      "outputs": [
        {
          "output_type": "stream",
          "name": "stdout",
          "text": [
            "47\n",
            "Number of function runs: 24\n"
          ]
        }
      ]
    },
    {
      "cell_type": "markdown",
      "source": [
        "**Problem 3.** Recall the question no. 2 from the exam. We have a function $F$ such that given two lists $L1$ and $L2$, $f(L1, L2)$ returns the difference of the sum of the elements of $L1$ and $L2$. Now given a list of size $3^k$ that consists of $3^k − 1$ many $1s$ and a single $2$, find the position of $2$ making at most $k$ many calls to the function $F$.\n",
        "\n",
        "```python\n",
        "def F(L1, L2):\n",
        "  diff = 0\n",
        "  for x in L1: diff += x\n",
        "  for x in L2: diff -= x\n",
        "  return diff\n",
        "```"
      ],
      "metadata": {
        "id": "gTfSv8PC7PCy"
      }
    },
    {
      "cell_type": "code",
      "source": [
        "counter = 0\n",
        "\n",
        "def F(L1, L2):\n",
        "  global counter\n",
        "  counter += 1\n",
        "\n",
        "  diff = 0\n",
        "  for x in L1: diff += x\n",
        "  for x in L2: diff -= x\n",
        "  return diff\n",
        "\n",
        "def find_two(arr, prev=0):\n",
        "  if len(arr) == 1 :\n",
        "    return prev if arr[0] == 2 else -1\n",
        "    \n",
        "  else:\n",
        "    n = len(arr)\n",
        "    one_third = n // 3\n",
        "\n",
        "    if arr[one_third] == 2:\n",
        "      return one_third + prev\n",
        "\n",
        "    left = arr[:one_third]\n",
        "    middle = arr[one_third:one_third*2]\n",
        "    right = arr[one_third*2:]\n",
        "\n",
        "    diff = F(left, right)\n",
        "\n",
        "    if diff == -1:\n",
        "      return find_two(right, prev+(2*one_third))\n",
        "\n",
        "    elif diff == 0: \n",
        "      return find_two(middle, prev+one_third)\n",
        "\n",
        "    elif diff == 1:\n",
        "      return find_two(left, prev)\n",
        "\n",
        "k = 4\n",
        "arr = [1 for i in range(3**k)]\n",
        "arr[56] = 2\n",
        "print('Position of 2:', find_two(arr))\n",
        "print('Number of calls of F:', counter)"
      ],
      "metadata": {
        "colab": {
          "base_uri": "https://localhost:8080/"
        },
        "id": "LbFThLroucin",
        "outputId": "10d538f2-3451-4cc2-f57d-a46c543afd56"
      },
      "execution_count": null,
      "outputs": [
        {
          "output_type": "stream",
          "name": "stdout",
          "text": [
            "Position of 2: 56\n",
            "Number of calls of F: 4\n"
          ]
        }
      ]
    }
  ]
}