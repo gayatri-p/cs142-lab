{
  "nbformat": 4,
  "nbformat_minor": 0,
  "metadata": {
    "colab": {
      "provenance": [],
      "authorship_tag": "ABX9TyOma0XLe1YPBtIwb6d8u9Js",
      "include_colab_link": true
    },
    "kernelspec": {
      "name": "python3",
      "display_name": "Python 3"
    },
    "language_info": {
      "name": "python"
    }
  },
  "cells": [
    {
      "cell_type": "markdown",
      "metadata": {
        "id": "view-in-github",
        "colab_type": "text"
      },
      "source": [
        "<a href=\"https://colab.research.google.com/github/gayatri-p/cs142-lab/blob/main/assignment_6.ipynb\" target=\"_parent\"><img src=\"https://colab.research.google.com/assets/colab-badge.svg\" alt=\"Open In Colab\"/></a>"
      ]
    },
    {
      "cell_type": "markdown",
      "source": [
        "# **Assignment 6**\n",
        "\n",
        "---\n",
        "\n"
      ],
      "metadata": {
        "id": "yggBS1wF38XI"
      }
    },
    {
      "cell_type": "markdown",
      "source": [
        "**Problem 1.** Write a recursive code to solve a sudoku (https://en.wikipedia.org/wiki/Sudoku) of size 9*9. Use backtracking to improve the runtime of your code. You can use a list of lists to store the entries of the input sudoku. Following are the rules for a valid sudoku.\n",
        "\n",
        "*   In all 9 sub-matrices of size 3×3, the elements should be 1-9, without repetition.\n",
        "*   In all rows, there should be elements between 1-9, without repetition.\n",
        "*   In all columns, there should be elements between 1-9, without repetition."
      ],
      "metadata": {
        "id": "kKIn1CKw4Ecy"
      }
    },
    {
      "cell_type": "code",
      "source": [
        "from time import time\n",
        "sudoku = [[0,0,0,0,0,0,0,0,0],\n",
        "        [0,0,0,0,0,0,0,0,0],\n",
        "        [0,0,0,0,0,0,0,0,0],\n",
        "        [0,0,0,0,0,0,0,0,0],\n",
        "        [0,0,0,0,1,0,0,0,0],\n",
        "        [0,0,0,0,0,0,0,0,0],\n",
        "        [0,0,0,0,0,0,0,0,0],\n",
        "        [0,0,0,0,0,0,0,0,0], \n",
        "        [0,0,0,0,0,0,0,0,0]] \n",
        "\n",
        "def print_grid(grid):\n",
        "  ''' Function to pretty print the grid\n",
        "  '''\n",
        "  for i in range(9):\n",
        "    if i%3 == 0:\n",
        "      print('', '-'*37)\n",
        "        \n",
        "    for j in range(9):\n",
        "      n = grid[i][j] if grid[i][j] != 0 else ' '\n",
        "      if j%3 == 0:\n",
        "        print(end=' | ')\n",
        "                  \n",
        "      print(f' {n} ', end='')\n",
        "      if j == 8:\n",
        "        print(end=' | ')\n",
        "    \n",
        "    print()\n",
        "    if i == 8:\n",
        "      print('', '-'*37)\n",
        "\n",
        "def is_valid(grid, y, x, n):\n",
        "  if n in grid[y]:\n",
        "    return False\n",
        "\n",
        "  for row in grid:\n",
        "    if n == row[x]:\n",
        "      return False\n",
        "  \n",
        "  q, p = ((y//3)*3), ((x//3)*3)\n",
        "  for i in range(q, q+3):\n",
        "    for j in range(p, p+3):\n",
        "      if grid[i][j] == n:\n",
        "        return False\n",
        "\n",
        "  return True\n",
        "\n",
        "def find_empty_position(grid):\n",
        "  for i in range(9):\n",
        "    for j in range(9):\n",
        "      if grid[i][j] == 0:\n",
        "        return i, j\n",
        "  return False\n",
        "\n",
        "def solve(grid):\n",
        "  position = find_empty_position(grid)\n",
        "\n",
        "  if not position:\n",
        "    return True\n",
        "\n",
        "  y, x = position\n",
        "\n",
        "  for number in range(1, 10):\n",
        "    if is_valid(grid, y, x, number):\n",
        "      grid[y][x] = number\n",
        "      if solve(grid):\n",
        "        return True\n",
        "      \n",
        "      grid[y][x] = 0\n",
        "\n",
        "  return False\n",
        "\n",
        "if __name__ == '__main__':\n",
        "  print_grid(sudoku)\n",
        "  start_time = time()\n",
        "  solve(sudoku)\n",
        "  print(f'--- solved in {time() - start_time} seconds ---' % ())\n",
        "  print_grid(sudoku)"
      ],
      "metadata": {
        "colab": {
          "base_uri": "https://localhost:8080/"
        },
        "id": "hSnX4mQn7ytF",
        "outputId": "834e94a2-dc88-4624-d5d1-ee987813c5a8"
      },
      "execution_count": 1,
      "outputs": [
        {
          "output_type": "stream",
          "name": "stdout",
          "text": [
            " -------------------------------------\n",
            " |           |           |           | \n",
            " |           |           |           | \n",
            " |           |           |           | \n",
            " -------------------------------------\n",
            " |           |           |           | \n",
            " |           |     1     |           | \n",
            " |           |           |           | \n",
            " -------------------------------------\n",
            " |           |           |           | \n",
            " |           |           |           | \n",
            " |           |           |           | \n",
            " -------------------------------------\n",
            "--- solved in 0.01892399787902832 seconds ---\n",
            " -------------------------------------\n",
            " |  1  2  3  |  4  5  6  |  7  8  9  | \n",
            " |  4  5  6  |  7  8  9  |  1  2  3  | \n",
            " |  7  8  9  |  1  2  3  |  4  5  6  | \n",
            " -------------------------------------\n",
            " |  2  1  4  |  3  6  5  |  8  9  7  | \n",
            " |  3  6  7  |  9  1  8  |  2  4  5  | \n",
            " |  5  9  8  |  2  4  7  |  3  6  1  | \n",
            " -------------------------------------\n",
            " |  6  3  1  |  8  9  2  |  5  7  4  | \n",
            " |  8  4  5  |  6  7  1  |  9  3  2  | \n",
            " |  9  7  2  |  5  3  4  |  6  1  8  | \n",
            " -------------------------------------\n"
          ]
        }
      ]
    }
  ]
}