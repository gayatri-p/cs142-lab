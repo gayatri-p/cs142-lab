{
  "nbformat": 4,
  "nbformat_minor": 0,
  "metadata": {
    "colab": {
      "provenance": [],
      "authorship_tag": "ABX9TyMyuIiydy3nHS2Xt8RzVm19",
      "include_colab_link": true
    },
    "kernelspec": {
      "name": "python3",
      "display_name": "Python 3"
    },
    "language_info": {
      "name": "python"
    },
    "accelerator": "GPU",
    "gpuClass": "standard"
  },
  "cells": [
    {
      "cell_type": "markdown",
      "metadata": {
        "id": "view-in-github",
        "colab_type": "text"
      },
      "source": [
        "<a href=\"https://colab.research.google.com/github/gayatri-p/cs142-lab/blob/main/assignment_6.ipynb\" target=\"_parent\"><img src=\"https://colab.research.google.com/assets/colab-badge.svg\" alt=\"Open In Colab\"/></a>"
      ]
    },
    {
      "cell_type": "markdown",
      "source": [
        "# **Assignment 6**\n",
        "\n",
        "---\n",
        "\n"
      ],
      "metadata": {
        "id": "yggBS1wF38XI"
      }
    },
    {
      "cell_type": "markdown",
      "source": [
        "**Problem 1.** Write a recursive code to solve a sudoku (https://en.wikipedia.org/wiki/Sudoku) of size 9*9. Use backtracking to improve the runtime of your code. You can use a list of lists to store the entries of the input sudoku. Following are the rules for a valid sudoku.\n",
        "\n",
        "*   In all 9 sub-matrices of size 3×3, the elements should be 1-9, without repetition.\n",
        "*   In all rows, there should be elements between 1-9, without repetition.\n",
        "*   In all columns, there should be elements between 1-9, without repetition."
      ],
      "metadata": {
        "id": "kKIn1CKw4Ecy"
      }
    },
    {
      "cell_type": "code",
      "source": [
        "from time import time\n",
        "\n",
        "def print_grid(grid):\n",
        "  ''' Function to pretty print the grid\n",
        "  '''\n",
        "  for i in range(9):\n",
        "    if i%3 == 0:\n",
        "      print('', '-'*37)\n",
        "        \n",
        "    for j in range(9):\n",
        "      n = grid[i][j] if grid[i][j] != 0 else ' '\n",
        "      if j%3 == 0:\n",
        "        print(end=' | ')\n",
        "                  \n",
        "      print(f' {n} ', end='')\n",
        "      if j == 8:\n",
        "        print(end=' | ')\n",
        "    \n",
        "    print()\n",
        "    if i == 8:\n",
        "      print('', '-'*37)\n",
        "\n",
        "def is_valid(grid, y, x, n):\n",
        "  ''' Check if n can be placed in the given position\n",
        "  '''\n",
        "  # row\n",
        "  if n in grid[y]:\n",
        "    return False\n",
        "\n",
        "  # column\n",
        "  for row in grid:\n",
        "    if n == row[x]:\n",
        "      return False\n",
        "  \n",
        "  # 3x3 grid\n",
        "  q, p = ((y//3)*3), ((x//3)*3)\n",
        "  for i in range(q, q+3):\n",
        "    for j in range(p, p+3):\n",
        "      if grid[i][j] == n:\n",
        "        return False\n",
        "\n",
        "  return True\n",
        "\n",
        "def find_empty_position(grid):\n",
        "  ''' Find unfilled positions\n",
        "  '''\n",
        "  for i in range(9):\n",
        "    for j in range(9):\n",
        "      if grid[i][j] == 0:\n",
        "        return i, j\n",
        "  return False\n",
        "\n",
        "def solve(grid):\n",
        "  ''' Solve the sudoku using backtracking\n",
        "  '''\n",
        "  position = find_empty_position(grid)\n",
        "\n",
        "  # all positions filled\n",
        "  if not position:\n",
        "    return True\n",
        "\n",
        "  y, x = position\n",
        "\n",
        "  for number in range(1, 10):\n",
        "    if is_valid(grid, y, x, number):\n",
        "      grid[y][x] = number\n",
        "      if solve(grid):\n",
        "        return True\n",
        "      \n",
        "      # backtracking\n",
        "      grid[y][x] = 0\n",
        "\n",
        "  return False\n",
        "\n",
        "# runtime\n",
        "sudoku = [[0,0,0,0,0,0,2,0,0],\n",
        "          [0,8,0,0,0,7,0,9,0],\n",
        "          [6,0,2,0,0,0,5,0,0],\n",
        "          [0,7,0,0,6,0,0,0,0],\n",
        "          [0,0,0,9,0,1,0,0,0],\n",
        "          [0,0,0,0,2,0,0,4,0],\n",
        "          [0,0,5,0,0,0,6,0,3],\n",
        "          [0,9,0,4,0,0,0,7,0], \n",
        "          [0,0,6,0,0,0,0,0,0]] \n",
        "\n",
        "print_grid(sudoku)\n",
        "start_time = time()\n",
        "if solve(sudoku):\n",
        "  print(f'--- solved in {time() - start_time} seconds ---')\n",
        "  print_grid(sudoku)\n",
        "else:\n",
        "  print('No solutions found.')"
      ],
      "metadata": {
        "colab": {
          "base_uri": "https://localhost:8080/"
        },
        "id": "hSnX4mQn7ytF",
        "outputId": "bf36245e-f47d-4bbf-96da-7b6d8c4e6acf"
      },
      "execution_count": 5,
      "outputs": [
        {
          "output_type": "stream",
          "name": "stdout",
          "text": [
            " -------------------------------------\n",
            " |           |           |  2        | \n",
            " |     8     |        7  |     9     | \n",
            " |  6     2  |           |  5        | \n",
            " -------------------------------------\n",
            " |     7     |     6     |           | \n",
            " |           |  9     1  |           | \n",
            " |           |     2     |     4     | \n",
            " -------------------------------------\n",
            " |        5  |           |  6     3  | \n",
            " |     9     |  4        |     7     | \n",
            " |        6  |           |           | \n",
            " -------------------------------------\n",
            "--- solved in 8.878886938095093 seconds ---\n",
            " -------------------------------------\n",
            " |  9  5  7  |  6  1  3  |  2  8  4  | \n",
            " |  4  8  3  |  2  5  7  |  1  9  6  | \n",
            " |  6  1  2  |  8  4  9  |  5  3  7  | \n",
            " -------------------------------------\n",
            " |  1  7  8  |  3  6  4  |  9  5  2  | \n",
            " |  5  2  4  |  9  7  1  |  3  6  8  | \n",
            " |  3  6  9  |  5  2  8  |  7  4  1  | \n",
            " -------------------------------------\n",
            " |  8  4  5  |  7  9  2  |  6  1  3  | \n",
            " |  2  9  1  |  4  3  6  |  8  7  5  | \n",
            " |  7  3  6  |  1  8  5  |  4  2  9  | \n",
            " -------------------------------------\n"
          ]
        }
      ]
    }
  ]
}