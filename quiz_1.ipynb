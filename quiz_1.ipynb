{
  "nbformat": 4,
  "nbformat_minor": 0,
  "metadata": {
    "colab": {
      "provenance": [],
      "authorship_tag": "ABX9TyMmCWWHIv8ubVoqQ0oMGjXm",
      "include_colab_link": true
    },
    "kernelspec": {
      "name": "python3",
      "display_name": "Python 3"
    },
    "language_info": {
      "name": "python"
    }
  },
  "cells": [
    {
      "cell_type": "markdown",
      "metadata": {
        "id": "view-in-github",
        "colab_type": "text"
      },
      "source": [
        "<a href=\"https://colab.research.google.com/github/gayatri-p/cs142-lab/blob/main/quiz_1.ipynb\" target=\"_parent\"><img src=\"https://colab.research.google.com/assets/colab-badge.svg\" alt=\"Open In Colab\"/></a>"
      ]
    },
    {
      "cell_type": "markdown",
      "source": [
        "# **Quiz 1**\n",
        "\n",
        "---\n",
        "\n"
      ],
      "metadata": {
        "id": "yggBS1wF38XI"
      }
    },
    {
      "cell_type": "markdown",
      "source": [
        "**Problem 1(a).** Given a list of size $n$ consisting of consecutive 1s followed by consecutive 2s, find the position of transition from 1 to 2 in $O( \\log n)$ time.\n",
        "\n",
        "For example, if the list is $[1, 1, 1, 2, 2, 2, 2]$, the index is 3 where the transition occurs."
      ],
      "metadata": {
        "id": "kKIn1CKw4Ecy"
      }
    },
    {
      "cell_type": "code",
      "source": [
        "def find_transition(arr, low, high):\n",
        "  if len(arr) == 1:\n",
        "    return low\n",
        "  else:\n",
        "    mid = low + (high - low) // 2\n",
        "    \n",
        "    if arr[mid] == 2 and arr[mid-1] == 1:\n",
        "      return mid\n",
        "\n",
        "    if arr[mid] == 2:\n",
        "      # check left\n",
        "      return find_transition(arr, low, mid-1) \n",
        "    else:\n",
        "      # check right\n",
        "      return find_transition(arr, mid+1, high)\n",
        "\n",
        "arr = [1, 1, 1, 1, 1, 2, 2]\n",
        "print(find_transition(arr, 0, len(arr)))"
      ],
      "metadata": {
        "colab": {
          "base_uri": "https://localhost:8080/"
        },
        "id": "hSnX4mQn7ytF",
        "outputId": "e20c5939-8ecf-4880-ee08-7e2f96dc4192"
      },
      "execution_count": 2,
      "outputs": [
        {
          "output_type": "stream",
          "name": "stdout",
          "text": [
            "5\n"
          ]
        }
      ]
    },
    {
      "cell_type": "markdown",
      "source": [
        "**Problem 1(b).** Suppose you have a function $F$ such that given two lists $L_1$ and $L_2$, $f(L_1, L_2)$ returns the difference of the sum of elemets of $L_1$ and $L_2$. Now given a list of size $n$ that consists of $n-1$ many 1s and a single 2, find the position of 2 making at most $2\\log n$ many calls to the function $F$.\n",
        "\n",
        "```python\n",
        "def F(L1, L2):\n",
        "  diff = 0\n",
        "  for x in L1: diff += x\n",
        "  for x in L2: diff -= x\n",
        "  return diff\n",
        "```\n",
        "\n",
        "For example, if the list is $[1, 1, 1, 2, 1, 1]$, the index is 3 where 2 occurs."
      ],
      "metadata": {
        "id": "fkNOcdFp44HC"
      }
    },
    {
      "cell_type": "code",
      "source": [
        "def F(L1, L2):\n",
        "  diff = 0\n",
        "  for x in L1: diff += x\n",
        "  for x in L2: diff -= x\n",
        "  return diff\n",
        "\n",
        "def find_two(arr, prev=0):\n",
        "  if len(arr) == 1 :\n",
        "    return prev if arr[0] == 2 else -1\n",
        "    \n",
        "  else:\n",
        "    n = len(arr)\n",
        "    mid = n // 2\n",
        "\n",
        "    # check if the middle element is two\n",
        "    if arr[mid] == 2:\n",
        "      return mid + prev\n",
        "\n",
        "    left = arr[:mid]\n",
        "    right = arr[mid+1:] if (n % 2) else arr[mid:]\n",
        "\n",
        "    # to take care of of odd cases\n",
        "    mid = mid + 1 if (n%2) else mid\n",
        "\n",
        "    diff = F(left, right)\n",
        "\n",
        "    if diff < 0:\n",
        "      # right part has two\n",
        "      return find_two(right, prev+mid)\n",
        "\n",
        "    else:\n",
        "      # left part has two\n",
        "      return find_two(left, prev)\n",
        "\n",
        "arr = [1, 1, 1, 1, 1, 2, 1, 1, 1]\n",
        "print(find_two(arr, 0))"
      ],
      "metadata": {
        "colab": {
          "base_uri": "https://localhost:8080/"
        },
        "id": "EqxnpiEF70Ij",
        "outputId": "a522e9eb-6038-46dc-c7c0-90290ac2876b"
      },
      "execution_count": 16,
      "outputs": [
        {
          "output_type": "stream",
          "name": "stdout",
          "text": [
            "5\n"
          ]
        }
      ]
    },
    {
      "cell_type": "markdown",
      "source": [
        "**Problem 2(a).** Given a $L$ and an integer $N$, write a code of merge sort to sort $L$ that uses insertion sort as the base case when the list is of size $\\le N$."
      ],
      "metadata": {
        "id": "Q5arsxc955Kp"
      }
    },
    {
      "cell_type": "code",
      "source": [
        "def merge_sort(arr, N):\n",
        "  if len(arr) <= N:\n",
        "    return insertion_sort(arr)\n",
        "  else:\n",
        "    mid = int(len(arr)/2)\n",
        "    a1 = merge_sort(arr[:mid], N)\n",
        "    a2 = merge_sort(arr[mid:], N)\n",
        "    a3 = []\n",
        "\n",
        "    while a1 and a2:\n",
        "      if a1[0] < a2[0]:\n",
        "        a3.append(a1[0])\n",
        "        del a1[0]\n",
        "      else:\n",
        "        a3.append(a2[0])\n",
        "        del a2[0]\n",
        "    \n",
        "    if a1:\n",
        "      a3 += a1\n",
        "    if a2:\n",
        "      a3 += a1\n",
        "    \n",
        "    return a3        \n",
        "\n",
        "def insertion_sort(arr):\n",
        "  if len(arr) == 1:\n",
        "    return arr\n",
        "  \n",
        "  for i in range(1, len(arr)):\n",
        "    current = arr[i]\n",
        "    j = i - 1\n",
        "    while j >= 0 and current < arr[j]:\n",
        "      arr[j+1] = arr[j]\n",
        "      j -= 1\n",
        "    arr[j+1] = current\n",
        "  \n",
        "  return arr\n",
        "\n",
        "array = [9, 8, 7, 6, 5, 4, 3, 2, 1]\n",
        "N = 4\n",
        "print(merge_sort(array, N))"
      ],
      "metadata": {
        "colab": {
          "base_uri": "https://localhost:8080/"
        },
        "id": "hiWc5Uvu71Pg",
        "outputId": "12f60e45-cba2-48ba-b270-536ed433705f"
      },
      "execution_count": 15,
      "outputs": [
        {
          "output_type": "stream",
          "name": "stdout",
          "text": [
            "[1, 2, 3, 4, 5, 6, 7, 8, 9]\n"
          ]
        }
      ]
    },
    {
      "cell_type": "markdown",
      "source": [
        "**Problem 2(b).** Suppose there are $n$ stairs. You are standing at the bottom ($0^{th}$ stair) and want to reach to the top.If you are at $i^{th}$, you can climb either 1 stair or jump $i$ stairs at a time. How many ways can you reach the top?\n",
        "\n",
        "\n",
        "1.   Write the recursive formulation to count the number of ways to reach the top.\n",
        "2.   Write a program to count the number in $O(n)$ time.\n",
        "\n"
      ],
      "metadata": {
        "id": "2fHbTDeV55Nl"
      }
    },
    {
      "cell_type": "code",
      "source": [
        "ways = {0:0, 1:1}\n",
        "\n",
        "def ways_to_reach(top):\n",
        "  if top in ways:\n",
        "    return ways[top]\n",
        "\n",
        "  else:\n",
        "    prev = ways_to_reach(top-1)\n",
        "\n",
        "    if top != 2 and (top % 2) == 0:\n",
        "      half = ways_to_reach(top/2)\n",
        "      steps_to_top = prev + half\n",
        "    else:\n",
        "      steps_to_top = prev\n",
        "\n",
        "    ways[top] = steps_to_top    \n",
        "    return steps_to_top\n",
        "\n",
        "top = 15\n",
        "print(ways_to_reach(25))"
      ],
      "metadata": {
        "colab": {
          "base_uri": "https://localhost:8080/"
        },
        "id": "FSHL6qzu73IB",
        "outputId": "b3f8a5fc-e2b2-4bda-f2f9-0c1493551107"
      },
      "execution_count": 35,
      "outputs": [
        {
          "output_type": "stream",
          "name": "stdout",
          "text": [
            "47\n"
          ]
        }
      ]
    },
    {
      "cell_type": "markdown",
      "source": [
        "**Problem 3.** Given two sorted lists of size $m$ and $n$, find the $k^{th}$ element of two sorted arrays in $O(\\log m + \\log n)$ time. (Hint: Write a program similar to the one done in assignment 3 for 'median finding')"
      ],
      "metadata": {
        "id": "gTfSv8PC7PCy"
      }
    },
    {
      "cell_type": "code",
      "source": [
        "def kth(arr1, arr2, n, m, k):\n",
        " \n",
        "  if n == 1 or m == 1:\n",
        "    if m == 1:\n",
        "      arr2, arr1 = arr1, arr2\n",
        "      m = n\n",
        "    if k == 1:\n",
        "      return min(arr1[0], arr2[0])\n",
        "    elif k == m + 1:\n",
        "      return max(arr1[0], arr2[0])\n",
        "    else:\n",
        "      if arr2[k - 1] < arr1[0]:\n",
        "        return arr2[k - 1]\n",
        "      else:\n",
        "        return max(arr1[0], arr2[k - 2])\n",
        " \n",
        "  mid1 = (n - 1)//2\n",
        "  mid2 = (m - 1)//2\n",
        " \n",
        "  if mid1+mid2+1 < k:\n",
        "    if arr1[mid1] < arr2[mid2]:\n",
        "      return kth(arr1[mid1 + 1:], arr2, n - mid1 - 1, m, k - mid1 - 1)\n",
        "    else:\n",
        "      return kth(arr1, arr2[mid2 + 1:], n, m - mid2 - 1, k - mid2 - 1)\n",
        "  else:\n",
        "    if arr1[mid1] < arr2[mid2]:\n",
        "      return kth(arr1, arr2[:mid2 + 1], n, mid2 + 1, k)\n",
        "    else:\n",
        "      return kth(arr1[:mid1 + 1], arr2, mid1 + 1, m, k)\n",
        " \n",
        "  \n",
        "list1=[3, 5, 6, 7, 9]\n",
        "list2=[5, 7, 8, 9, 11, 23, 25, 27]\n",
        "m = len(list1)\n",
        "n = len(list2)\n",
        "k = 5\n",
        "print(kth(list1, list2, n, m, k))"
      ],
      "metadata": {
        "colab": {
          "base_uri": "https://localhost:8080/"
        },
        "id": "sLFDbVsx74vX",
        "outputId": "bb4f09b4-da43-4358-ee01-e337d38f4549"
      },
      "execution_count": 48,
      "outputs": [
        {
          "output_type": "stream",
          "name": "stdout",
          "text": [
            "7\n"
          ]
        }
      ]
    }
  ]
}