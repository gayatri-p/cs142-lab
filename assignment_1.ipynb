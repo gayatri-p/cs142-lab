{
  "nbformat": 4,
  "nbformat_minor": 0,
  "metadata": {
    "colab": {
      "provenance": [],
      "authorship_tag": "ABX9TyN6Wy9y8XEen9tRN2GKLpX5",
      "include_colab_link": true
    },
    "kernelspec": {
      "name": "python3",
      "display_name": "Python 3"
    },
    "language_info": {
      "name": "python"
    }
  },
  "cells": [
    {
      "cell_type": "markdown",
      "metadata": {
        "id": "view-in-github",
        "colab_type": "text"
      },
      "source": [
        "<a href=\"https://colab.research.google.com/github/gayatri-p/cs142-lab/blob/main/assignment_1.ipynb\" target=\"_parent\"><img src=\"https://colab.research.google.com/assets/colab-badge.svg\" alt=\"Open In Colab\"/></a>"
      ]
    },
    {
      "cell_type": "markdown",
      "source": [
        "# **Assignment 1**\n",
        "\n",
        "---\n",
        "\n"
      ],
      "metadata": {
        "id": "JE-49sYkoi01"
      }
    },
    {
      "cell_type": "markdown",
      "source": [
        "**Problem 1.** Given two integers $m$ and $n$, write a Python program to compute $n^m$ using at most $2 \\log m$\n",
        "many multiplications.\n",
        "\n",
        "**Hint:** Write a function to compute $n^m$ when $m = 2^k$ for some integer $k$ using $k$ many multiplications. Now use the binary representation of $m$ to solve the general case."
      ],
      "metadata": {
        "id": "l7UR29LbAh7O"
      }
    },
    {
      "cell_type": "code",
      "source": [
        "def power(n, m):\n",
        "\t# finding n^m in log2(m) time complexity\n",
        "\tif m == 0:\n",
        "\t\treturn 1\n",
        "\t\n",
        "\tif m % 2 == 0:\n",
        "\t\ttemp =  power(n, m/2)\n",
        "\t\treturn temp*temp\n",
        "\telse:\n",
        "\t\ttemp = power(n, (m-1)/2)\n",
        "\t\treturn n*temp*temp\n",
        "   \t \n",
        "print(power(2, 32))"
      ],
      "metadata": {
        "colab": {
          "base_uri": "https://localhost:8080/"
        },
        "id": "GtiaKjrvoqFG",
        "outputId": "f3667dfa-98ba-4c78-aa50-6b1484b8e5f5"
      },
      "execution_count": null,
      "outputs": [
        {
          "output_type": "stream",
          "name": "stdout",
          "text": [
            "4294967296\n"
          ]
        }
      ]
    },
    {
      "cell_type": "markdown",
      "source": [
        "**Problem 2. (a)** Suppose we are given a list of courses of length $2n − 1$ where every course is appearing twice except exactly one course. Write a Python program to find that course in $O(n)$ time.**bold text**"
      ],
      "metadata": {
        "id": "8_CZlCv-A_SQ"
      }
    },
    {
      "cell_type": "code",
      "source": [
        "def course_counter(courses):\n",
        "\tcounter = {}\n",
        "\n",
        "\tfor course in courses:\n",
        "\t\tif course in counter:\n",
        "\t\t\tcounter[course] += 1\n",
        "\t\telse:\n",
        "\t\t\tcounter[course] = 1\n",
        "\n",
        "\tfor course in counter:\n",
        "\t\tif counter[course] == 1:\n",
        "\t\t\treturn course\n",
        "\n",
        "courses = ['B102', 'C102', 'CS142', 'M102', 'B102', 'C102', 'M102', 'P102', 'P102']\n",
        "print(course_counter(courses))"
      ],
      "metadata": {
        "colab": {
          "base_uri": "https://localhost:8080/"
        },
        "id": "a_fHX5tso3j6",
        "outputId": "8059f351-8da2-4336-e52f-3150930c4c04"
      },
      "execution_count": null,
      "outputs": [
        {
          "output_type": "stream",
          "name": "stdout",
          "text": [
            "CS142\n"
          ]
        }
      ]
    },
    {
      "cell_type": "markdown",
      "source": [
        "**Problem 2. (b)** If that list contains numbers from $1, 2, . . . , n$ where every number is appearing twice except exactly one number, then write a Python program to find that number in $O(n)$ time using only one auxiliary variable."
      ],
      "metadata": {
        "id": "K2n_K6XxBGZe"
      }
    },
    {
      "cell_type": "code",
      "source": [
        "def number_counter(nums):\n",
        "\tcount = {}\n",
        "\tfor n in nums:\n",
        "\t\tif n in count:\n",
        "\t\t\tcount[n] += 1\n",
        "\t\telse:\n",
        "\t\t\tcount[n] = 1\n",
        "\n",
        "\tfor n in count:\n",
        "\t\tif count[n] == 1:\n",
        "\t\t\treturn n\n",
        "\n",
        "nums = [1, 1, 2, 3, 2, 5, 5, 4, 3]\n",
        "print(number_counter(nums))"
      ],
      "metadata": {
        "colab": {
          "base_uri": "https://localhost:8080/"
        },
        "id": "w_4nEX2xo62I",
        "outputId": "80e86337-8c5c-4163-8a22-b0a3026c23c8"
      },
      "execution_count": null,
      "outputs": [
        {
          "output_type": "stream",
          "name": "stdout",
          "text": [
            "4\n"
          ]
        }
      ]
    },
    {
      "cell_type": "markdown",
      "source": [
        "**Problem 3.** Given a list of $n$ numbers and an integer $k$, write a Python code to sort the elements appearing in a position divisible by $k$ in the ascending order and the remaining elements in the descending order in $O(n^2)$ time modifying the insertion sort algorithm. Write a code for the same problem without using any auxiliary list.\n",
        "\n",
        "**Input:** [31, 12, 21, 55, 14, 1, 51, 30, 2, 7], 3\n",
        "\n",
        "**Output:** [55, 51, 1, 31, 30, 2, 14, 12, 21, 7]\n",
        "\n",
        "**Hint:** Try to solve it using two different lists for different *types* of position indices. To solve it using a single list, first check the index type of the current element and insert it in the correct position."
      ],
      "metadata": {
        "id": "OcnDdxdrBQUG"
      }
    },
    {
      "cell_type": "code",
      "source": [
        "def insertion_sort(lst, k):\n",
        "\tfor i in range(1, len(lst)):\n",
        "\t\tcurrent = lst[i]\n",
        "\t\t\n",
        "\t\tif (i+1) % k == 0:\n",
        "\t\t\tj = i-k\n",
        "\t\t\twhile j >= 0 and current < lst[j]:\n",
        "\t\t\t\tlst[j+k] = lst[j]\n",
        "\t\t\t\tj -= k\n",
        "\t\t\tlst[j+k] = current\n",
        "\t\t\t\t\n",
        "\t\telse:    \n",
        "\t\t\tj = i-1\n",
        "\t\t\twhile j >= 0 and current > lst[j]:\n",
        "\t\t\t\tif (j+1) % k == 0:\n",
        "\t\t\t\t\tj -= 1\n",
        "\t\t\t\t\tlst[j+2] = lst[j]\n",
        "\t\t\t\telse:\n",
        "\t\t\t\t\tlst[j+1] = lst[j]\n",
        "\t\t\t\tj -= 1\n",
        "\t\t\tlst[j+1] = current\n",
        "\t\n",
        "\treturn lst\n",
        "\n",
        "lst = [31, 12, 21, 55, 14, 1, 51, 30, 2, 7]\n",
        "lst = [10, 7, 9, 8]\n",
        "print(insertion_sort(lst, 3))"
      ],
      "metadata": {
        "colab": {
          "base_uri": "https://localhost:8080/"
        },
        "id": "RbMwzDT2o_zt",
        "outputId": "8d96458f-0ae4-4b99-d290-e9d0e96709bb"
      },
      "execution_count": null,
      "outputs": [
        {
          "output_type": "stream",
          "name": "stdout",
          "text": [
            "[10, 7, 9, 8]\n"
          ]
        }
      ]
    },
    {
      "cell_type": "markdown",
      "source": [
        "**Problem 4.** Given a list $L$, an inversion is a pair $(i, j)$ such that $i < j$ but $L[i] > L[j]$. Modify the code of the insertion sort to count the number of inversions of a given list."
      ],
      "metadata": {
        "id": "Xn0_ZpJlBiVR"
      }
    },
    {
      "cell_type": "code",
      "source": [
        "def count_inversions(lst):\n",
        "\tinversions = 0\n",
        "\tfor i in range(1, len(lst)):\n",
        "\t\tcurrent = lst[i]\n",
        "\t\tj = i-1\n",
        "\t\twhile j >= 0 and current < lst[j]:\n",
        "\t\t\tlst[j+1] = lst[j]\n",
        "\t\t\tj -= 1\n",
        "\t\t\tinversions += 1\n",
        "\t\tlst[j+1] = current\n",
        "\t\n",
        "\treturn inversions\n",
        "\n",
        "lst = [31, 12, 21, 55, 14, 1, 51, 30, 2, 7]\n",
        "print('Number of inversions used:', count_inversions(lst))"
      ],
      "metadata": {
        "colab": {
          "base_uri": "https://localhost:8080/"
        },
        "id": "Vm1oKPhXpC7n",
        "outputId": "4dc25c97-d277-4388-d3bc-eebbf2683a67"
      },
      "execution_count": null,
      "outputs": [
        {
          "output_type": "stream",
          "name": "stdout",
          "text": [
            "Number of inversions used: 28\n"
          ]
        }
      ]
    }
  ]
}