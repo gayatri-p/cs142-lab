{
  "cells": [
    {
      "cell_type": "markdown",
      "metadata": {
        "id": "JE-49sYkoi01"
      },
      "source": [
        "# **Assignment 1**\n",
        "\n",
        "---\n",
        "\n"
      ]
    },
    {
      "cell_type": "code",
      "execution_count": 14,
      "metadata": {
        "colab": {
          "base_uri": "https://localhost:8080/"
        },
        "id": "GtiaKjrvoqFG",
        "outputId": "f3667dfa-98ba-4c78-aa50-6b1484b8e5f5"
      },
      "outputs": [
        {
          "name": "stdout",
          "output_type": "stream",
          "text": [
            "4294967296\n"
          ]
        }
      ],
      "source": [
        "def power(n, m):\n",
        "\t# finding n^m in log2(m) time complexity\n",
        "\tif m == 0:\n",
        "\t\treturn 1\n",
        "\t\n",
        "\tif m % 2 == 0:\n",
        "\t\ttemp =  power(n, m/2)\n",
        "\t\treturn temp*temp\n",
        "\telse:\n",
        "\t\ttemp = power(n, (m-1)/2)\n",
        "\t\treturn n*temp*temp\n",
        "   \t \n",
        "print(power(2, 32))"
      ]
    },
    {
      "cell_type": "code",
      "execution_count": 10,
      "metadata": {
        "colab": {
          "base_uri": "https://localhost:8080/"
        },
        "id": "a_fHX5tso3j6",
        "outputId": "8059f351-8da2-4336-e52f-3150930c4c04"
      },
      "outputs": [
        {
          "name": "stdout",
          "output_type": "stream",
          "text": [
            "CS142\n"
          ]
        }
      ],
      "source": [
        "def course_counter(courses):\n",
        "\tcounter = {}\n",
        "\n",
        "\tfor course in courses:\n",
        "\t\tif course in counter:\n",
        "\t\t\tcounter[course] += 1\n",
        "\t\telse:\n",
        "\t\t\tcounter[course] = 1\n",
        "\n",
        "\tfor course in counter:\n",
        "\t\tif counter[course] == 1:\n",
        "\t\t\treturn course\n",
        "\n",
        "courses = ['B102', 'C102', 'CS142', 'M102', 'B102', 'C102', 'M102', 'P102', 'P102']\n",
        "print(course_counter(courses))"
      ]
    },
    {
      "cell_type": "code",
      "execution_count": 11,
      "metadata": {
        "colab": {
          "base_uri": "https://localhost:8080/"
        },
        "id": "w_4nEX2xo62I",
        "outputId": "80e86337-8c5c-4163-8a22-b0a3026c23c8"
      },
      "outputs": [
        {
          "name": "stdout",
          "output_type": "stream",
          "text": [
            "4\n"
          ]
        }
      ],
      "source": [
        "def number_counter(nums):\n",
        "\tcount = {}\n",
        "\tfor n in nums:\n",
        "\t\tif n in count:\n",
        "\t\t\tcount[n] += 1\n",
        "\t\telse:\n",
        "\t\t\tcount[n] = 1\n",
        "\n",
        "\tfor n in count:\n",
        "\t\tif count[n] == 1:\n",
        "\t\t\treturn n\n",
        "\n",
        "nums = [1, 1, 2, 3, 2, 5, 5, 4, 3]\n",
        "print(number_counter(nums))"
      ]
    },
    {
      "cell_type": "code",
      "execution_count": 12,
      "metadata": {
        "colab": {
          "base_uri": "https://localhost:8080/"
        },
        "id": "RbMwzDT2o_zt",
        "outputId": "8d96458f-0ae4-4b99-d290-e9d0e96709bb"
      },
      "outputs": [
        {
          "name": "stdout",
          "output_type": "stream",
          "text": [
            "[10, 7, 9, 8]\n"
          ]
        }
      ],
      "source": [
        "def insertion_sort(lst, k):\n",
        "\tfor i in range(1, len(lst)):\n",
        "\t\tcurrent = lst[i]\n",
        "\t\t\n",
        "\t\tif (i+1) % k == 0:\n",
        "\t\t\tj = i-k\n",
        "\t\t\twhile j >= 0 and current < lst[j]:\n",
        "\t\t\t\tlst[j+k] = lst[j]\n",
        "\t\t\t\tj -= k\n",
        "\t\t\tlst[j+k] = current\n",
        "\t\t\t\t\n",
        "\t\telse:    \n",
        "\t\t\tj = i-1\n",
        "\t\t\twhile j >= 0 and current > lst[j]:\n",
        "\t\t\t\tif (j+1) % k == 0:\n",
        "\t\t\t\t\tj -= 1\n",
        "\t\t\t\t\tlst[j+2] = lst[j]\n",
        "\t\t\t\telse:\n",
        "\t\t\t\t\tlst[j+1] = lst[j]\n",
        "\t\t\t\tj -= 1\n",
        "\t\t\tlst[j+1] = current\n",
        "\t\n",
        "\treturn lst\n",
        "\n",
        "lst = [31, 12, 21, 55, 14, 1, 51, 30, 2, 7]\n",
        "lst = [10, 7, 9, 8]\n",
        "print(insertion_sort(lst, 3))"
      ]
    },
    {
      "cell_type": "code",
      "execution_count": 13,
      "metadata": {
        "colab": {
          "base_uri": "https://localhost:8080/"
        },
        "id": "Vm1oKPhXpC7n",
        "outputId": "4dc25c97-d277-4388-d3bc-eebbf2683a67"
      },
      "outputs": [
        {
          "name": "stdout",
          "output_type": "stream",
          "text": [
            "Number of inversions used: 28\n"
          ]
        }
      ],
      "source": [
        "def count_inversions(lst):\n",
        "\tinversions = 0\n",
        "\tfor i in range(1, len(lst)):\n",
        "\t\tcurrent = lst[i]\n",
        "\t\tj = i-1\n",
        "\t\twhile j >= 0 and current < lst[j]:\n",
        "\t\t\tlst[j+1] = lst[j]\n",
        "\t\t\tj -= 1\n",
        "\t\t\tinversions += 1\n",
        "\t\tlst[j+1] = current\n",
        "\t\n",
        "\treturn inversions\n",
        "\n",
        "lst = [31, 12, 21, 55, 14, 1, 51, 30, 2, 7]\n",
        "print('Number of inversions used:', count_inversions(lst))"
      ]
    }
  ],
  "metadata": {
    "colab": {
      "provenance": []
    },
    "kernelspec": {
      "display_name": "Python 3",
      "name": "python3"
    },
    "language_info": {
      "name": "python"
    }
  },
  "nbformat": 4,
  "nbformat_minor": 0
}
