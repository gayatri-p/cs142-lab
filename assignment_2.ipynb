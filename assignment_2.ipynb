{
  "cells": [
    {
      "cell_type": "markdown",
      "metadata": {
        "id": "LvY2eU3SpHGY"
      },
      "source": [
        "# **Assignment 2**\n",
        "\n",
        "---\n",
        "\n"
      ]
    },
    {
      "cell_type": "code",
      "execution_count": 1,
      "metadata": {
        "colab": {
          "base_uri": "https://localhost:8080/"
        },
        "id": "B81R3NYG3PKJ",
        "outputId": "4d72f47b-4e87-4fe9-cb5b-7b32bc52bea6"
      },
      "outputs": [
        {
          "name": "stdout",
          "output_type": "stream",
          "text": [
            "1\n"
          ]
        }
      ],
      "source": [
        "def evaluate(expr):\n",
        "  if len(expr) == 1:\n",
        "      return expr[0]\n",
        "\n",
        "  j = len(expr) - 1\n",
        "  while j >= 0:\n",
        "    # find an operation of the form (a+b) or (a-b)\n",
        "    if expr[j] == ')' and expr[j-4] == '(':\n",
        "      if expr[j-2] == '+':\n",
        "        a = expr[j-3]+expr[j-1]\n",
        "      else:\n",
        "        a = expr[j-3]-expr[j-1]\n",
        "\n",
        "      # collapse the operation into a value\n",
        "      # and reevaluate the new expression\n",
        "      expr = expr[:j-4] + [a] + expr[j+1:]\n",
        "      return evaluate(expr)\n",
        "    else:\n",
        "      j -= 1\n",
        "\n",
        "expr = [ '(', '(', 3, '+', 2, ')', '-', '(', '(', 1, '-', 2, ')', '+', 5, ')', ')' ]\n",
        "print(evaluate(expr))"
      ]
    },
    {
      "cell_type": "code",
      "execution_count": 7,
      "metadata": {
        "colab": {
          "base_uri": "https://localhost:8080/"
        },
        "id": "dHv3oA9h3YYx",
        "outputId": "3bdc2180-e626-4654-a69e-fc7d42339f25"
      },
      "outputs": [
        {
          "name": "stdout",
          "output_type": "stream",
          "text": [
            "6 and 22\n"
          ]
        }
      ],
      "source": [
        "def find_factors(lst, t):\n",
        "  i = 0\n",
        "  j = len(lst) - 1\n",
        "\n",
        "  # multiplying values in the list from both the ends\n",
        "  # till we reach the target\n",
        "  while i < j:\n",
        "    if lst[i] * lst[j] == t:\n",
        "      return f'{lst[i]} and {lst[j]}'\n",
        "    elif lst[i] * lst[j] < t:\n",
        "      i += 1\n",
        "    else:\n",
        "      j -= 1\n",
        "    \n",
        "  return f'Product of no pair of numbers in the list gives {t}'\n",
        "\n",
        "lst = [1, 3, 5, 6, 8, 11, 13, 17, 22, 45]\n",
        "t = 132\n",
        "print(find_factors(lst, t))"
      ]
    },
    {
      "cell_type": "code",
      "execution_count": null,
      "metadata": {
        "colab": {
          "base_uri": "https://localhost:8080/"
        },
        "id": "RYN4-w_S4u9M",
        "outputId": "cb89a5c4-8fda-4290-a89e-1eca1082217b"
      },
      "outputs": [
        {
          "name": "stdout",
          "output_type": "stream",
          "text": [
            "baacccdddefssshk\n"
          ]
        }
      ],
      "source": [
        "def sort(s, o):\n",
        "  s = list(s)\n",
        "  for i in range(1, len(s)):\n",
        "    current = s[i]\n",
        "    j = i-1\n",
        "\n",
        "    # sort by their index in the reference order list \n",
        "    while j >= 0 and o.index(current) < o.index(s[j]):\n",
        "      s[j+1] = s[j]\n",
        "      j -= 1\n",
        "    s[j+1] = current\n",
        "    \n",
        "  return ''.join(s)\n",
        "\n",
        "s = 'dcabesfshdsakcdc'\n",
        "o = 'bacdefshk'\n",
        "print(sort(s, o))"
      ]
    }
  ],
  "metadata": {
    "colab": {
      "provenance": []
    },
    "kernelspec": {
      "display_name": "Python 3",
      "name": "python3"
    },
    "language_info": {
      "name": "python"
    }
  },
  "nbformat": 4,
  "nbformat_minor": 0
}
