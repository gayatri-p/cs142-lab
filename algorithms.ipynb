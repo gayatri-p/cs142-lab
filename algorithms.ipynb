{
  "nbformat": 4,
  "nbformat_minor": 0,
  "metadata": {
    "colab": {
      "provenance": [],
      "authorship_tag": "ABX9TyMVpYHIXDPMfVq5V2UrwSlC",
      "include_colab_link": true
    },
    "kernelspec": {
      "name": "python3",
      "display_name": "Python 3"
    },
    "language_info": {
      "name": "python"
    }
  },
  "cells": [
    {
      "cell_type": "markdown",
      "metadata": {
        "id": "view-in-github",
        "colab_type": "text"
      },
      "source": [
        "<a href=\"https://colab.research.google.com/github/gayatri-p/cs142-lab/blob/main/algorithms.ipynb\" target=\"_parent\"><img src=\"https://colab.research.google.com/assets/colab-badge.svg\" alt=\"Open In Colab\"/></a>"
      ]
    },
    {
      "cell_type": "markdown",
      "source": [
        "#**Algorithms**"
      ],
      "metadata": {
        "id": "QOZmPKJ_btS4"
      }
    },
    {
      "cell_type": "markdown",
      "source": [
        "## Insertion Sort"
      ],
      "metadata": {
        "id": "qXeChi0Eb-sV"
      }
    },
    {
      "cell_type": "code",
      "source": [
        "def insertion_sort(input_list):\n",
        "  for i in range(1, len(input_list)):\n",
        "    current = input_list[i]\n",
        "    j = i-1\n",
        "    while j >= 0 and input_list[j] > current:\n",
        "      input_list[j+1] = input_list[j]\n",
        "      j = j-1\n",
        "    input_list[j+1] = current\n",
        "  return input_list\n",
        "\n",
        "print(insertion_sort([1, 2, 9, 7, 5, 4]))"
      ],
      "metadata": {
        "colab": {
          "base_uri": "https://localhost:8080/"
        },
        "id": "NK7NcLBLbdpc",
        "outputId": "211734af-7818-4682-87f9-28ec77764de6"
      },
      "execution_count": 2,
      "outputs": [
        {
          "output_type": "stream",
          "name": "stdout",
          "text": [
            "[1, 2, 4, 5, 7, 9]\n"
          ]
        }
      ]
    },
    {
      "cell_type": "markdown",
      "source": [
        "## Binary Search"
      ],
      "metadata": {
        "id": "mwBaVHV8bpn3"
      }
    },
    {
      "cell_type": "code",
      "execution_count": 1,
      "metadata": {
        "colab": {
          "base_uri": "https://localhost:8080/"
        },
        "id": "JFbGpFPmbVnq",
        "outputId": "34db361f-0b3d-454a-8dab-5fc39bd9d859"
      },
      "outputs": [
        {
          "output_type": "stream",
          "name": "stdout",
          "text": [
            "7\n"
          ]
        }
      ],
      "source": [
        "def binary_search(lst, target, left, right):\n",
        "  if left > right:\n",
        "    return False\n",
        "  else:\n",
        "    mid = (left+right)//2\n",
        "    if target == lst[mid]:\n",
        "      return mid\n",
        "    elif target < lst[mid]:\n",
        "      return binary_search(lst, target, left, mid-1)\n",
        "    else:\n",
        "      return binary_search(lst, target, mid+1, right)\n",
        "\n",
        "lst = [1, 2, 3, 4, 5, 6, 7, 8, 9, 10]\n",
        "print(binary_search(lst, 8, 0, len(lst)))"
      ]
    },
    {
      "cell_type": "markdown",
      "source": [
        "## Merge Sort"
      ],
      "metadata": {
        "id": "ulh6jEFBb-ns"
      }
    },
    {
      "cell_type": "code",
      "source": [
        "def merge_sort(lst):\n",
        "  if len(lst) == 1:\n",
        "    return lst\n",
        "    \n",
        "  mid = len(lst)//2\n",
        "  left = merge_sort(lst[:mid])\n",
        "  right = merge_sort(lst[mid:])\n",
        "\n",
        "  return merge(left, right)\n",
        "\t\n",
        "def merge(l, r):\n",
        "  li=[]\n",
        "  while l and r:\n",
        "    if l[0] < r[0]:\n",
        "      li.append(l[0])\n",
        "      del l[0]\n",
        "    else:\n",
        "      li.append(r[0])\n",
        "      del r[0]\n",
        "  if r:\n",
        "    li += r\n",
        "  else:\n",
        "    li += l\n",
        "    \n",
        "  return li\n",
        "\t\n",
        "lst1 = [7,3,6,5,4,1,2]\n",
        "print(merge_sort(lst1))"
      ],
      "metadata": {
        "colab": {
          "base_uri": "https://localhost:8080/"
        },
        "id": "PubZxk97cKUa",
        "outputId": "a60e77f4-f18f-4515-e63c-fb16523173a6"
      },
      "execution_count": 3,
      "outputs": [
        {
          "output_type": "stream",
          "name": "stdout",
          "text": [
            "[1, 2, 3, 4, 5, 6, 7]\n"
          ]
        }
      ]
    }
  ]
}